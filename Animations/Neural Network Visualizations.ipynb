{
 "cells": [
  {
   "cell_type": "markdown",
   "id": "ffbc8ff9",
   "metadata": {},
   "source": [
    "# Exercise 1\n",
    "\n",
    "[Dipam Soni](https://flowcv.me/dipamsoni) is my portfolio where you can find more information about me.\n",
    "\n",
    "Author: Avi Chawla\n",
    "\n",
    "[Medium](https://medium.com/@avi_chawla) | [LinkedIn](https://www.linkedin.com/in/avi-chawla/)\n",
    "\n",
    "# Visualizing The Data Transformation of a Neural Network\n",
    "\n",
    "Post Link: [Substack](https://avichawla.substack.com/p/visualizing-the-data-transformation)\n",
    "\n",
    "LinkedIn Post: [LinkedIn](https://www.linkedin.com/feed/update/urn:li:activity:7032314842166272000/)"
   ]
  }
 ],
 "metadata": {
  "kernelspec": {
   "display_name": "Python 3 (ipykernel)",
   "language": "python",
   "name": "python3"
  },
  "language_info": {
   "codemirror_mode": {
    "name": "ipython",
    "version": 3
   },
   "file_extension": ".py",
   "mimetype": "text/x-python",
   "name": "python",
   "nbconvert_exporter": "python",
   "pygments_lexer": "ipython3",
   "version": "3.9.13"
  }
 },
 "nbformat": 4,
 "nbformat_minor": 5
}
