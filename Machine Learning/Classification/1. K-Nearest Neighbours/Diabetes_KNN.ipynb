{
 "cells": [
  {
   "cell_type": "markdown",
   "id": "499dfd13",
   "metadata": {},
   "source": [
    "# KNN (Lazy Learner)"
   ]
  },
  {
   "cell_type": "markdown",
   "id": "d91bd693",
   "metadata": {},
   "source": [
    "# Import Libraries"
   ]
  },
  {
   "cell_type": "code",
   "execution_count": 21,
   "id": "317c87df",
   "metadata": {},
   "outputs": [],
   "source": [
    "import pandas as pd\n",
    "import numpy as np \n",
    "import matplotlib.pyplot as plt\n",
    "\n",
    "from sklearn.model_selection import train_test_split\n",
    "\n",
    "from sklearn.preprocessing import StandardScaler\n",
    "\n",
    "from sklearn.neighbors import KNeighborsClassifier\n",
    "from sklearn.metrics import confusion_matrix, accuracy_score, classification_report, f1_score, roc_curve"
   ]
  },
  {
   "cell_type": "markdown",
   "id": "1f3db541",
   "metadata": {},
   "source": [
    "# Load the dataset"
   ]
  },
  {
   "cell_type": "code",
   "execution_count": 2,
   "id": "e75a3dfc",
   "metadata": {},
   "outputs": [
    {
     "data": {
      "text/html": [
       "<div>\n",
       "<style scoped>\n",
       "    .dataframe tbody tr th:only-of-type {\n",
       "        vertical-align: middle;\n",
       "    }\n",
       "\n",
       "    .dataframe tbody tr th {\n",
       "        vertical-align: top;\n",
       "    }\n",
       "\n",
       "    .dataframe thead th {\n",
       "        text-align: right;\n",
       "    }\n",
       "</style>\n",
       "<table border=\"1\" class=\"dataframe\">\n",
       "  <thead>\n",
       "    <tr style=\"text-align: right;\">\n",
       "      <th></th>\n",
       "      <th>Pregnancies</th>\n",
       "      <th>Glucose</th>\n",
       "      <th>BloodPressure</th>\n",
       "      <th>SkinThickness</th>\n",
       "      <th>Insulin</th>\n",
       "      <th>BMI</th>\n",
       "      <th>DiabetesPedigreeFunction</th>\n",
       "      <th>Age</th>\n",
       "      <th>Outcome</th>\n",
       "    </tr>\n",
       "  </thead>\n",
       "  <tbody>\n",
       "    <tr>\n",
       "      <th>0</th>\n",
       "      <td>6</td>\n",
       "      <td>148</td>\n",
       "      <td>72</td>\n",
       "      <td>35</td>\n",
       "      <td>0</td>\n",
       "      <td>33.6</td>\n",
       "      <td>0.627</td>\n",
       "      <td>50</td>\n",
       "      <td>1</td>\n",
       "    </tr>\n",
       "    <tr>\n",
       "      <th>1</th>\n",
       "      <td>1</td>\n",
       "      <td>85</td>\n",
       "      <td>66</td>\n",
       "      <td>29</td>\n",
       "      <td>0</td>\n",
       "      <td>26.6</td>\n",
       "      <td>0.351</td>\n",
       "      <td>31</td>\n",
       "      <td>0</td>\n",
       "    </tr>\n",
       "    <tr>\n",
       "      <th>2</th>\n",
       "      <td>8</td>\n",
       "      <td>183</td>\n",
       "      <td>64</td>\n",
       "      <td>0</td>\n",
       "      <td>0</td>\n",
       "      <td>23.3</td>\n",
       "      <td>0.672</td>\n",
       "      <td>32</td>\n",
       "      <td>1</td>\n",
       "    </tr>\n",
       "    <tr>\n",
       "      <th>3</th>\n",
       "      <td>1</td>\n",
       "      <td>89</td>\n",
       "      <td>66</td>\n",
       "      <td>23</td>\n",
       "      <td>94</td>\n",
       "      <td>28.1</td>\n",
       "      <td>0.167</td>\n",
       "      <td>21</td>\n",
       "      <td>0</td>\n",
       "    </tr>\n",
       "    <tr>\n",
       "      <th>4</th>\n",
       "      <td>0</td>\n",
       "      <td>137</td>\n",
       "      <td>40</td>\n",
       "      <td>35</td>\n",
       "      <td>168</td>\n",
       "      <td>43.1</td>\n",
       "      <td>2.288</td>\n",
       "      <td>33</td>\n",
       "      <td>1</td>\n",
       "    </tr>\n",
       "  </tbody>\n",
       "</table>\n",
       "</div>"
      ],
      "text/plain": [
       "   Pregnancies  Glucose  BloodPressure  SkinThickness  Insulin   BMI  \\\n",
       "0            6      148             72             35        0  33.6   \n",
       "1            1       85             66             29        0  26.6   \n",
       "2            8      183             64              0        0  23.3   \n",
       "3            1       89             66             23       94  28.1   \n",
       "4            0      137             40             35      168  43.1   \n",
       "\n",
       "   DiabetesPedigreeFunction  Age  Outcome  \n",
       "0                     0.627   50        1  \n",
       "1                     0.351   31        0  \n",
       "2                     0.672   32        1  \n",
       "3                     0.167   21        0  \n",
       "4                     2.288   33        1  "
      ]
     },
     "execution_count": 2,
     "metadata": {},
     "output_type": "execute_result"
    }
   ],
   "source": [
    "Diabetes_db = pd.read_csv('diabetes.csv')\n",
    "Diabetes_db.head()"
   ]
  },
  {
   "cell_type": "markdown",
   "id": "82843fa0",
   "metadata": {},
   "source": [
    "# Check the dataframe"
   ]
  },
  {
   "cell_type": "code",
   "execution_count": 3,
   "id": "3cfce976",
   "metadata": {},
   "outputs": [
    {
     "data": {
      "text/plain": [
       "(768, 9)"
      ]
     },
     "execution_count": 3,
     "metadata": {},
     "output_type": "execute_result"
    }
   ],
   "source": [
    "Diabetes_db.shape"
   ]
  },
  {
   "cell_type": "code",
   "execution_count": 4,
   "id": "c2ce02fd",
   "metadata": {},
   "outputs": [
    {
     "data": {
      "text/plain": [
       "Pregnancies                 0\n",
       "Glucose                     0\n",
       "BloodPressure               0\n",
       "SkinThickness               0\n",
       "Insulin                     0\n",
       "BMI                         0\n",
       "DiabetesPedigreeFunction    0\n",
       "Age                         0\n",
       "Outcome                     0\n",
       "dtype: int64"
      ]
     },
     "execution_count": 4,
     "metadata": {},
     "output_type": "execute_result"
    }
   ],
   "source": [
    "Diabetes_db.isnull().sum()"
   ]
  },
  {
   "cell_type": "code",
   "execution_count": 5,
   "id": "bd84c6b3",
   "metadata": {},
   "outputs": [
    {
     "name": "stdout",
     "output_type": "stream",
     "text": [
      "<class 'pandas.core.frame.DataFrame'>\n",
      "RangeIndex: 768 entries, 0 to 767\n",
      "Data columns (total 9 columns):\n",
      " #   Column                    Non-Null Count  Dtype  \n",
      "---  ------                    --------------  -----  \n",
      " 0   Pregnancies               768 non-null    int64  \n",
      " 1   Glucose                   768 non-null    int64  \n",
      " 2   BloodPressure             768 non-null    int64  \n",
      " 3   SkinThickness             768 non-null    int64  \n",
      " 4   Insulin                   768 non-null    int64  \n",
      " 5   BMI                       768 non-null    float64\n",
      " 6   DiabetesPedigreeFunction  768 non-null    float64\n",
      " 7   Age                       768 non-null    int64  \n",
      " 8   Outcome                   768 non-null    int64  \n",
      "dtypes: float64(2), int64(7)\n",
      "memory usage: 54.1 KB\n"
     ]
    }
   ],
   "source": [
    "Diabetes_db.info()"
   ]
  },
  {
   "cell_type": "code",
   "execution_count": 6,
   "id": "cd115042",
   "metadata": {},
   "outputs": [
    {
     "name": "stdout",
     "output_type": "stream",
     "text": [
      "Glucose : 5\n",
      "BloodPressure : 35\n",
      "SkinThickness : 227\n",
      "Insulin : 374\n",
      "BMI : 11\n",
      "DiabetesPedigreeFunction : 0\n",
      "Age : 0\n"
     ]
    }
   ],
   "source": [
    "print('Glucose :' ,Diabetes_db[Diabetes_db.Glucose==0].shape[0])\n",
    "print('BloodPressure :' ,Diabetes_db[Diabetes_db.BloodPressure==0].shape[0])\n",
    "print('SkinThickness :' ,Diabetes_db[Diabetes_db.SkinThickness==0].shape[0])\n",
    "print('Insulin :' ,Diabetes_db[Diabetes_db.Insulin==0].shape[0])\n",
    "print('BMI :' ,Diabetes_db[Diabetes_db.BMI==0].shape[0])\n",
    "print('DiabetesPedigreeFunction :' ,Diabetes_db[Diabetes_db.DiabetesPedigreeFunction==0].shape[0])\n",
    "print('Age :' ,Diabetes_db[Diabetes_db.Age==0].shape[0])"
   ]
  },
  {
   "cell_type": "code",
   "execution_count": 7,
   "id": "86314db2",
   "metadata": {},
   "outputs": [],
   "source": [
    "columns_replace = ['Glucose','BloodPressure','SkinThickness','Insulin','BMI','DiabetesPedigreeFunction']"
   ]
  },
  {
   "cell_type": "code",
   "execution_count": 8,
   "id": "8360a2e4",
   "metadata": {},
   "outputs": [],
   "source": [
    "for column in columns_replace:\n",
    "    Diabetes_db[column] = Diabetes_db[column].replace(0,np.NaN)\n",
    "    mean = int(Diabetes_db[column].mean(skipna = True))\n",
    "    Diabetes_db[column] = Diabetes_db[column].replace(np.NaN,mean)"
   ]
  },
  {
   "cell_type": "code",
   "execution_count": 9,
   "id": "ed57a6ec",
   "metadata": {},
   "outputs": [
    {
     "name": "stdout",
     "output_type": "stream",
     "text": [
      "Glucose : 0\n",
      "BloodPressure : 0\n",
      "SkinThickness : 0\n",
      "Insulin : 0\n",
      "BMI : 0\n",
      "DiabetesPedigreeFunction : 0\n",
      "Age : 0\n"
     ]
    }
   ],
   "source": [
    "print('Glucose :' ,Diabetes_db[Diabetes_db.Glucose==0].shape[0])\n",
    "print('BloodPressure :' ,Diabetes_db[Diabetes_db.BloodPressure==0].shape[0])\n",
    "print('SkinThickness :' ,Diabetes_db[Diabetes_db.SkinThickness==0].shape[0])\n",
    "print('Insulin :' ,Diabetes_db[Diabetes_db.Insulin==0].shape[0])\n",
    "print('BMI :' ,Diabetes_db[Diabetes_db.BMI==0].shape[0])\n",
    "print('DiabetesPedigreeFunction :' ,Diabetes_db[Diabetes_db.DiabetesPedigreeFunction==0].shape[0])\n",
    "print('Age :' ,Diabetes_db[Diabetes_db.Age==0].shape[0])"
   ]
  },
  {
   "cell_type": "markdown",
   "id": "ce02c2e4",
   "metadata": {},
   "source": [
    "# Split the dataset into train and test"
   ]
  },
  {
   "cell_type": "code",
   "execution_count": 10,
   "id": "891ee201",
   "metadata": {},
   "outputs": [],
   "source": [
    "X = Diabetes_db.iloc[:, :8].values\n",
    "y = Diabetes_db.iloc[:, -1].values"
   ]
  },
  {
   "cell_type": "code",
   "execution_count": 11,
   "id": "4ca6a07b",
   "metadata": {},
   "outputs": [],
   "source": [
    "X_train, X_test, y_train, y_test = train_test_split(X, y, random_state = 30, test_size = 0.2)"
   ]
  },
  {
   "cell_type": "markdown",
   "id": "d32cd224",
   "metadata": {},
   "source": [
    "# Transform and fit data using Standard Scaler"
   ]
  },
  {
   "cell_type": "code",
   "execution_count": 12,
   "id": "3fc02ad4",
   "metadata": {},
   "outputs": [],
   "source": [
    "scaler = StandardScaler()\n",
    "X_train = scaler.fit_transform(X_train)\n",
    "X_test = scaler.transform(X_test)"
   ]
  },
  {
   "cell_type": "markdown",
   "id": "6b48a3dd",
   "metadata": {},
   "source": [
    "# KNN Model"
   ]
  },
  {
   "attachments": {},
   "cell_type": "markdown",
   "id": "af0d1d17",
   "metadata": {},
   "source": [
    "Distance : \n",
    "1. Manhattan distance (p = 1)\n",
    "2. Euclidean distance (p = 2)\n",
    "3. Minkowski distance"
   ]
  },
  {
   "cell_type": "code",
   "execution_count": 13,
   "id": "3b7c455e",
   "metadata": {},
   "outputs": [
    {
     "data": {
      "text/plain": [
       "KNeighborsClassifier(metric='euclidean', n_neighbors=47)"
      ]
     },
     "execution_count": 13,
     "metadata": {},
     "output_type": "execute_result"
    }
   ],
   "source": [
    "knn_model = KNeighborsClassifier(n_neighbors = 47, p = 2, metric = 'euclidean')\n",
    "knn_model.fit(X_train, y_train)"
   ]
  },
  {
   "cell_type": "code",
   "execution_count": 14,
   "id": "3f5ac031",
   "metadata": {},
   "outputs": [
    {
     "name": "stdout",
     "output_type": "stream",
     "text": [
      "[0 0 0 0 0 0 1 0 0 0 0 0 0 0 0 0 0 0 1 0 0 1 0 0 1 0 0 0 0 1 0 0 0 1 0 0 0\n",
      " 1 1 0 0 1 0 0 1 1 1 0 0 0 0 0 0 1 0 0 0 0 0 0 0 0 1 0 0 0 1 1 1 0 0 1 0 0\n",
      " 0 1 0 1 1 0 0 0 0 1 0 0 0 0 0 0 0 0 0 0 1 0 0 0 1 1 0 0 1 1 1 0 0 0 0 0 0\n",
      " 0 0 0 0 0 0 1 0 0 0 1 0 0 0 0 0 0 0 0 0 1 0 1 1 0 1 0 0 0 1 0 0 0 0 0 1 0\n",
      " 0 1 0 0 1 0]\n"
     ]
    }
   ],
   "source": [
    "y_pred = knn_model.predict(X_test)\n",
    "print(y_pred)"
   ]
  },
  {
   "cell_type": "markdown",
   "id": "3c991d21",
   "metadata": {},
   "source": [
    "# Calculate Accuracy, F1 score, Confusion Matrix, Classification Report"
   ]
  },
  {
   "cell_type": "code",
   "execution_count": 17,
   "id": "a595cf8f",
   "metadata": {},
   "outputs": [
    {
     "name": "stdout",
     "output_type": "stream",
     "text": [
      "Classification Report :\n",
      "              precision    recall  f1-score   support\n",
      "\n",
      "           0       0.81      0.90      0.85       104\n",
      "           1       0.74      0.56      0.64        50\n",
      "\n",
      "    accuracy                           0.79       154\n",
      "   macro avg       0.77      0.73      0.75       154\n",
      "weighted avg       0.79      0.79      0.78       154\n",
      "\n"
     ]
    }
   ],
   "source": [
    "print(\"Classification Report :\")\n",
    "print(classification_report(y_test, y_pred))"
   ]
  },
  {
   "cell_type": "code",
   "execution_count": 18,
   "id": "adacda60",
   "metadata": {},
   "outputs": [
    {
     "name": "stdout",
     "output_type": "stream",
     "text": [
      "Confusion Matrix :\n",
      "[[94 10]\n",
      " [22 28]]\n"
     ]
    }
   ],
   "source": [
    "print(\"Confusion Matrix :\")\n",
    "print(confusion_matrix(y_test, y_pred))"
   ]
  },
  {
   "cell_type": "code",
   "execution_count": 19,
   "id": "4255e966",
   "metadata": {},
   "outputs": [
    {
     "name": "stdout",
     "output_type": "stream",
     "text": [
      "F1-Score :\n",
      "0.6363636363636364\n"
     ]
    }
   ],
   "source": [
    "print(\"F1-Score :\")\n",
    "print(f1_score(y_test, y_pred))"
   ]
  },
  {
   "cell_type": "code",
   "execution_count": 20,
   "id": "815c5269",
   "metadata": {},
   "outputs": [
    {
     "name": "stdout",
     "output_type": "stream",
     "text": [
      "Accuracy Score :\n",
      "0.7922077922077922\n"
     ]
    }
   ],
   "source": [
    "print(\"Accuracy Score :\")\n",
    "print(accuracy_score(y_test, y_pred))"
   ]
  },
  {
   "cell_type": "code",
   "execution_count": 26,
   "id": "fc86c9b1",
   "metadata": {},
   "outputs": [],
   "source": [
    "# print(\"ROC Curve :\")\n",
    "# print(roc_curve(y_test, y_pred))"
   ]
  }
 ],
 "metadata": {
  "kernelspec": {
   "display_name": "Python 3",
   "language": "python",
   "name": "python3"
  },
  "language_info": {
   "codemirror_mode": {
    "name": "ipython",
    "version": 3
   },
   "file_extension": ".py",
   "mimetype": "text/x-python",
   "name": "python",
   "nbconvert_exporter": "python",
   "pygments_lexer": "ipython3",
   "version": "3.8.8"
  }
 },
 "nbformat": 4,
 "nbformat_minor": 5
}
