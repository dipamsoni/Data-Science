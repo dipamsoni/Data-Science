{
 "cells": [
  {
   "cell_type": "markdown",
   "id": "42875288",
   "metadata": {},
   "source": [
    "# Import Libraries"
   ]
  },
  {
   "cell_type": "code",
   "execution_count": 1,
   "id": "ffd4201f",
   "metadata": {},
   "outputs": [],
   "source": [
    "import pandas as pd \n",
    "import numpy as np"
   ]
  },
  {
   "cell_type": "markdown",
   "id": "afae8c69",
   "metadata": {},
   "source": [
    "# Object Creation"
   ]
  },
  {
   "cell_type": "code",
   "execution_count": 2,
   "id": "2c34ce3d",
   "metadata": {},
   "outputs": [
    {
     "data": {
      "text/plain": [
       "0    1.0\n",
       "1    3.0\n",
       "2    5.0\n",
       "3    NaN\n",
       "4    6.0\n",
       "5    8.0\n",
       "dtype: float64"
      ]
     },
     "execution_count": 2,
     "metadata": {},
     "output_type": "execute_result"
    }
   ],
   "source": [
    "# Series is a one-dimensional labeled array capable of holding any data type (integers, strings, floating point numbers, Python objects, etc.).\n",
    "# s = pd.Series(data, index=index)\n",
    "s = pd.Series([1,3,5,np.nan,6,8]) \n",
    "s"
   ]
  },
  {
   "cell_type": "code",
   "execution_count": 3,
   "id": "7723fe9c",
   "metadata": {},
   "outputs": [
    {
     "data": {
      "text/plain": [
       "a   -0.045731\n",
       "b    0.031326\n",
       "c   -0.682122\n",
       "d   -0.944323\n",
       "e    0.857001\n",
       "dtype: float64"
      ]
     },
     "execution_count": 3,
     "metadata": {},
     "output_type": "execute_result"
    }
   ],
   "source": [
    "# From ndarray\n",
    "s = pd.Series(np.random.randn(5), index=[\"a\", \"b\", \"c\", \"d\", \"e\"])\n",
    "s"
   ]
  },
  {
   "cell_type": "code",
   "execution_count": 4,
   "id": "e85d6e73",
   "metadata": {},
   "outputs": [
    {
     "data": {
      "text/plain": [
       "0"
      ]
     },
     "execution_count": 4,
     "metadata": {},
     "output_type": "execute_result"
    }
   ],
   "source": [
    "# From dict\n",
    "d = {\"b\": 1, \"a\": 0, \"c\": 2}\n",
    "a = pd.Series(d)\n",
    "a[\"a\"]"
   ]
  },
  {
   "cell_type": "code",
   "execution_count": 5,
   "id": "9ab2dfe1",
   "metadata": {},
   "outputs": [
    {
     "data": {
      "text/plain": [
       "a    5.0\n",
       "b    5.0\n",
       "c    5.0\n",
       "d    5.0\n",
       "e    5.0\n",
       "dtype: float64"
      ]
     },
     "execution_count": 5,
     "metadata": {},
     "output_type": "execute_result"
    }
   ],
   "source": [
    "# From scalar value\n",
    "a = pd.Series(5.0, index=[\"a\", \"b\", \"c\", \"d\", \"e\"])\n",
    "a"
   ]
  },
  {
   "cell_type": "code",
   "execution_count": 6,
   "id": "34225531",
   "metadata": {},
   "outputs": [
    {
     "data": {
      "text/plain": [
       "-0.04573102210334877"
      ]
     },
     "execution_count": 6,
     "metadata": {},
     "output_type": "execute_result"
    }
   ],
   "source": [
    "s[0]"
   ]
  },
  {
   "cell_type": "code",
   "execution_count": 7,
   "id": "3f312a4a",
   "metadata": {},
   "outputs": [
    {
     "data": {
      "text/plain": [
       "a   -0.045731\n",
       "b    0.031326\n",
       "c   -0.682122\n",
       "dtype: float64"
      ]
     },
     "execution_count": 7,
     "metadata": {},
     "output_type": "execute_result"
    }
   ],
   "source": [
    "s[:3]"
   ]
  },
  {
   "cell_type": "code",
   "execution_count": 8,
   "id": "ad8fc519",
   "metadata": {},
   "outputs": [
    {
     "data": {
      "text/plain": [
       "b    0.031326\n",
       "e    0.857001\n",
       "dtype: float64"
      ]
     },
     "execution_count": 8,
     "metadata": {},
     "output_type": "execute_result"
    }
   ],
   "source": [
    "s[s > s.median()]"
   ]
  },
  {
   "cell_type": "code",
   "execution_count": 9,
   "id": "3da393d6",
   "metadata": {},
   "outputs": [
    {
     "data": {
      "text/plain": [
       "e    0.857001\n",
       "d   -0.944323\n",
       "b    0.031326\n",
       "dtype: float64"
      ]
     },
     "execution_count": 9,
     "metadata": {},
     "output_type": "execute_result"
    }
   ],
   "source": [
    "s[[4, 3, 1]]"
   ]
  },
  {
   "cell_type": "code",
   "execution_count": 10,
   "id": "3b3f7743",
   "metadata": {},
   "outputs": [
    {
     "data": {
      "text/plain": [
       "a    0.955299\n",
       "b    1.031822\n",
       "c    0.505543\n",
       "d    0.388943\n",
       "e    2.356085\n",
       "dtype: float64"
      ]
     },
     "execution_count": 10,
     "metadata": {},
     "output_type": "execute_result"
    }
   ],
   "source": [
    "np.exp(s)"
   ]
  },
  {
   "cell_type": "code",
   "execution_count": 11,
   "id": "609d5f38",
   "metadata": {},
   "outputs": [
    {
     "data": {
      "text/plain": [
       "dtype('float64')"
      ]
     },
     "execution_count": 11,
     "metadata": {},
     "output_type": "execute_result"
    }
   ],
   "source": [
    "s.dtype"
   ]
  },
  {
   "cell_type": "code",
   "execution_count": 12,
   "id": "417eb9ed",
   "metadata": {},
   "outputs": [
    {
     "data": {
      "text/plain": [
       "<PandasArray>\n",
       "[-0.04573102210334877,  0.03132588278289396,  -0.6821223090052303,\n",
       "  -0.9443226213053044,    0.857001232304359]\n",
       "Length: 5, dtype: float64"
      ]
     },
     "execution_count": 12,
     "metadata": {},
     "output_type": "execute_result"
    }
   ],
   "source": [
    "s.array"
   ]
  },
  {
   "cell_type": "code",
   "execution_count": 13,
   "id": "9923f5cc",
   "metadata": {},
   "outputs": [
    {
     "data": {
      "text/plain": [
       "array([-0.04573102,  0.03132588, -0.68212231, -0.94432262,  0.85700123])"
      ]
     },
     "execution_count": 13,
     "metadata": {},
     "output_type": "execute_result"
    }
   ],
   "source": [
    "s.to_numpy()"
   ]
  },
  {
   "cell_type": "code",
   "execution_count": 14,
   "id": "9e9dfb9e",
   "metadata": {},
   "outputs": [
    {
     "name": "stdout",
     "output_type": "stream",
     "text": [
      "   calories  duration\n",
      "0       420        50\n",
      "1       380        40\n",
      "2       390        45\n"
     ]
    }
   ],
   "source": [
    "# Pandas DataFrames\n",
    "data = {\n",
    "  \"calories\": [420, 380, 390],\n",
    "  \"duration\": [50, 40, 45]\n",
    "}\n",
    "\n",
    "#load data into a DataFrame object:\n",
    "df = pd.DataFrame(data)\n",
    "\n",
    "print(df) "
   ]
  },
  {
   "cell_type": "code",
   "execution_count": 15,
   "id": "3da84f45",
   "metadata": {},
   "outputs": [
    {
     "name": "stdout",
     "output_type": "stream",
     "text": [
      "calories    420\n",
      "duration     50\n",
      "Name: 0, dtype: int64\n"
     ]
    }
   ],
   "source": [
    "# Locate Row\n",
    "print(df.loc[0])"
   ]
  },
  {
   "cell_type": "code",
   "execution_count": 16,
   "id": "7b154515",
   "metadata": {},
   "outputs": [
    {
     "name": "stdout",
     "output_type": "stream",
     "text": [
      "   calories  duration\n",
      "0       420        50\n",
      "1       380        40\n"
     ]
    }
   ],
   "source": [
    "#use a list of indexes:\n",
    "print(df.loc[[0, 1]])"
   ]
  },
  {
   "cell_type": "code",
   "execution_count": null,
   "id": "32a95050",
   "metadata": {},
   "outputs": [],
   "source": []
  },
  {
   "cell_type": "code",
   "execution_count": 17,
   "id": "9237c6bb",
   "metadata": {},
   "outputs": [
    {
     "name": "stdout",
     "output_type": "stream",
     "text": [
      "      calories  duration\n",
      "day1       420        50\n",
      "day2       380        40\n",
      "day3       390        45\n"
     ]
    }
   ],
   "source": [
    "# Named Indexes\n",
    "data = {\n",
    "  \"calories\": [420, 380, 390],\n",
    "  \"duration\": [50, 40, 45]\n",
    "}\n",
    "\n",
    "df = pd.DataFrame(data, index = [\"day1\", \"day2\", \"day3\"])\n",
    "\n",
    "print(df) "
   ]
  },
  {
   "cell_type": "code",
   "execution_count": 18,
   "id": "b16fa7e0",
   "metadata": {},
   "outputs": [
    {
     "name": "stdout",
     "output_type": "stream",
     "text": [
      "calories    380\n",
      "duration     40\n",
      "Name: day2, dtype: int64\n"
     ]
    }
   ],
   "source": [
    "# Locate Named Indexes\n",
    "#refer to the named index:\n",
    "print(df.loc[\"day2\"])"
   ]
  },
  {
   "cell_type": "code",
   "execution_count": 19,
   "id": "ec6d7508",
   "metadata": {},
   "outputs": [],
   "source": [
    "# Load Files Into a DataFrame\n",
    "# df = pd.read_csv('data.csv')\n",
    "# print(df) "
   ]
  },
  {
   "cell_type": "code",
   "execution_count": 20,
   "id": "8cd1d536",
   "metadata": {},
   "outputs": [
    {
     "data": {
      "text/plain": [
       "'      calories  duration\\nday1       420        50\\nday2       380        40\\nday3       390        45'"
      ]
     },
     "execution_count": 20,
     "metadata": {},
     "output_type": "execute_result"
    }
   ],
   "source": [
    "# to_string() to print the entire DataFrame.\n",
    "df.to_string()"
   ]
  },
  {
   "cell_type": "code",
   "execution_count": 21,
   "id": "3d6ad178",
   "metadata": {},
   "outputs": [],
   "source": [
    "# Read JSON\n",
    "# df = pd.read_json('data.json')\n",
    "# print(df.to_string()) "
   ]
  },
  {
   "cell_type": "code",
   "execution_count": 22,
   "id": "c1f1f6f8",
   "metadata": {},
   "outputs": [
    {
     "name": "stdout",
     "output_type": "stream",
     "text": [
      "      calories  duration\n",
      "day1       420        50\n",
      "day2       380        40\n",
      "      calories  duration\n",
      "day2       380        40\n",
      "day3       390        45\n"
     ]
    }
   ],
   "source": [
    "# Viewing the Data\n",
    "print(df.head(2))\n",
    "print(df.tail(2))"
   ]
  },
  {
   "cell_type": "code",
   "execution_count": 23,
   "id": "cbc6d0a0",
   "metadata": {},
   "outputs": [
    {
     "name": "stdout",
     "output_type": "stream",
     "text": [
      "<class 'pandas.core.frame.DataFrame'>\n",
      "Index: 3 entries, day1 to day3\n",
      "Data columns (total 2 columns):\n",
      " #   Column    Non-Null Count  Dtype\n",
      "---  ------    --------------  -----\n",
      " 0   calories  3 non-null      int64\n",
      " 1   duration  3 non-null      int64\n",
      "dtypes: int64(2)\n",
      "memory usage: 180.0+ bytes\n",
      "None\n"
     ]
    }
   ],
   "source": [
    "print(df.info()) "
   ]
  },
  {
   "cell_type": "code",
   "execution_count": 24,
   "id": "12c66301",
   "metadata": {},
   "outputs": [
    {
     "name": "stdout",
     "output_type": "stream",
     "text": [
      "    Duration          Date  Pulse  Maxpulse  Calories\n",
      "0         60  '2020/12/01'    110       130     409.1\n",
      "1         60  '2020/12/02'    117       145     479.0\n",
      "2         60  '2020/12/03'    103       135     340.0\n",
      "3         45  '2020/12/04'    109       175     282.4\n",
      "4         45  '2020/12/05'    117       148     406.0\n",
      "5         60  '2020/12/06'    102       127     300.0\n",
      "6         60  '2020/12/07'    110       136     374.0\n",
      "7        450  '2020/12/08'    104       134     253.3\n",
      "8         30  '2020/12/09'    109       133     195.1\n",
      "9         60  '2020/12/10'     98       124     269.0\n",
      "10        60  '2020/12/11'    103       147     329.3\n",
      "11        60  '2020/12/12'    100       120     250.7\n",
      "12        60  '2020/12/12'    100       120     250.7\n",
      "13        60  '2020/12/13'    106       128     345.3\n",
      "14        60  '2020/12/14'    104       132     379.3\n",
      "15        60  '2020/12/15'     98       123     275.0\n",
      "16        60  '2020/12/16'     98       120     215.2\n",
      "17        60  '2020/12/17'    100       120     300.0\n",
      "19        60  '2020/12/19'    103       123     323.0\n",
      "20        45  '2020/12/20'     97       125     243.0\n",
      "21        60  '2020/12/21'    108       131     364.2\n",
      "23        60  '2020/12/23'    130       101     300.0\n",
      "24        45  '2020/12/24'    105       132     246.0\n",
      "25        60  '2020/12/25'    102       126     334.5\n",
      "26        60      20201226    100       120     250.0\n",
      "27        60  '2020/12/27'     92       118     241.0\n",
      "29        60  '2020/12/29'    100       132     280.0\n",
      "30        60  '2020/12/30'    102       129     380.3\n",
      "31        60  '2020/12/31'     92       115     243.0\n"
     ]
    }
   ],
   "source": [
    "df = pd.read_csv('6.1 Data.csv')\n",
    "new_df = df.dropna()\n",
    "print(new_df.to_string())"
   ]
  },
  {
   "cell_type": "code",
   "execution_count": 25,
   "id": "8bede168",
   "metadata": {},
   "outputs": [
    {
     "name": "stdout",
     "output_type": "stream",
     "text": [
      "    Duration          Date  Pulse  Maxpulse  Calories\n",
      "0         60  '2020/12/01'    110       130     409.1\n",
      "1         60  '2020/12/02'    117       145     479.0\n",
      "2         60  '2020/12/03'    103       135     340.0\n",
      "3         45  '2020/12/04'    109       175     282.4\n",
      "4         45  '2020/12/05'    117       148     406.0\n",
      "5         60  '2020/12/06'    102       127     300.0\n",
      "6         60  '2020/12/07'    110       136     374.0\n",
      "7        450  '2020/12/08'    104       134     253.3\n",
      "8         30  '2020/12/09'    109       133     195.1\n",
      "9         60  '2020/12/10'     98       124     269.0\n",
      "10        60  '2020/12/11'    103       147     329.3\n",
      "11        60  '2020/12/12'    100       120     250.7\n",
      "12        60  '2020/12/12'    100       120     250.7\n",
      "13        60  '2020/12/13'    106       128     345.3\n",
      "14        60  '2020/12/14'    104       132     379.3\n",
      "15        60  '2020/12/15'     98       123     275.0\n",
      "16        60  '2020/12/16'     98       120     215.2\n",
      "17        60  '2020/12/17'    100       120     300.0\n",
      "19        60  '2020/12/19'    103       123     323.0\n",
      "20        45  '2020/12/20'     97       125     243.0\n",
      "21        60  '2020/12/21'    108       131     364.2\n",
      "23        60  '2020/12/23'    130       101     300.0\n",
      "24        45  '2020/12/24'    105       132     246.0\n",
      "25        60  '2020/12/25'    102       126     334.5\n",
      "26        60      20201226    100       120     250.0\n",
      "27        60  '2020/12/27'     92       118     241.0\n",
      "29        60  '2020/12/29'    100       132     280.0\n",
      "30        60  '2020/12/30'    102       129     380.3\n",
      "31        60  '2020/12/31'     92       115     243.0\n"
     ]
    }
   ],
   "source": [
    "df = pd.read_csv('6.1 Data.csv')\n",
    "\n",
    "df.dropna(inplace = True) # If you want to change the original DataFrame, use the inplace = True argument:\n",
    "\n",
    "print(df.to_string())"
   ]
  },
  {
   "cell_type": "code",
   "execution_count": 26,
   "id": "70b95b3a",
   "metadata": {},
   "outputs": [],
   "source": [
    "# Replace Empty Values\n",
    "df = pd.read_csv('6.1 Data.csv')\n",
    "df.fillna(130, inplace = True)"
   ]
  },
  {
   "cell_type": "code",
   "execution_count": 27,
   "id": "a4662551",
   "metadata": {},
   "outputs": [],
   "source": [
    "# Replace Only For Specified Columns\n",
    "df = pd.read_csv('6.1 Data.csv')\n",
    "df[\"Calories\"].fillna(130, inplace = True)"
   ]
  },
  {
   "cell_type": "code",
   "execution_count": 28,
   "id": "65a1af4b",
   "metadata": {},
   "outputs": [],
   "source": [
    "# Replace Using Mean, Median, or Mode\n",
    "df = pd.read_csv('6.1 Data.csv')\n",
    "x = df[\"Calories\"].mean() # Mean = the average value (the sum of all values divided by number of values).\n",
    "df[\"Calories\"].fillna(x, inplace = True)\n",
    "\n",
    "# Median = the value in the middle, after you have sorted all values ascending.\n",
    "# Mode = the value that appears most frequently."
   ]
  },
  {
   "cell_type": "code",
   "execution_count": 29,
   "id": "78a35790",
   "metadata": {},
   "outputs": [
    {
     "name": "stdout",
     "output_type": "stream",
     "text": [
      "    Duration       Date  Pulse  Maxpulse  Calories\n",
      "0         60 2020-12-01    110       130    409.10\n",
      "1         60 2020-12-02    117       145    479.00\n",
      "2         60 2020-12-03    103       135    340.00\n",
      "3         45 2020-12-04    109       175    282.40\n",
      "4         45 2020-12-05    117       148    406.00\n",
      "5         60 2020-12-06    102       127    300.00\n",
      "6         60 2020-12-07    110       136    374.00\n",
      "7        450 2020-12-08    104       134    253.30\n",
      "8         30 2020-12-09    109       133    195.10\n",
      "9         60 2020-12-10     98       124    269.00\n",
      "10        60 2020-12-11    103       147    329.30\n",
      "11        60 2020-12-12    100       120    250.70\n",
      "12        60 2020-12-12    100       120    250.70\n",
      "13        60 2020-12-13    106       128    345.30\n",
      "14        60 2020-12-14    104       132    379.30\n",
      "15        60 2020-12-15     98       123    275.00\n",
      "16        60 2020-12-16     98       120    215.20\n",
      "17        60 2020-12-17    100       120    300.00\n",
      "18        45 2020-12-18     90       112    304.68\n",
      "19        60 2020-12-19    103       123    323.00\n",
      "20        45 2020-12-20     97       125    243.00\n",
      "21        60 2020-12-21    108       131    364.20\n",
      "22        45        NaT    100       119    282.00\n",
      "23        60 2020-12-23    130       101    300.00\n",
      "24        45 2020-12-24    105       132    246.00\n",
      "25        60 2020-12-25    102       126    334.50\n",
      "26        60 2020-12-26    100       120    250.00\n",
      "27        60 2020-12-27     92       118    241.00\n",
      "28        60 2020-12-28    103       132    304.68\n",
      "29        60 2020-12-29    100       132    280.00\n",
      "30        60 2020-12-30    102       129    380.30\n",
      "31        60 2020-12-31     92       115    243.00\n"
     ]
    }
   ],
   "source": [
    "# Convert Into a Correct Format\n",
    "df['Date'] = pd.to_datetime(df['Date'])\n",
    "\n",
    "print(df.to_string())"
   ]
  },
  {
   "cell_type": "code",
   "execution_count": 30,
   "id": "68e59e0b",
   "metadata": {},
   "outputs": [
    {
     "data": {
      "text/html": [
       "<div>\n",
       "<style scoped>\n",
       "    .dataframe tbody tr th:only-of-type {\n",
       "        vertical-align: middle;\n",
       "    }\n",
       "\n",
       "    .dataframe tbody tr th {\n",
       "        vertical-align: top;\n",
       "    }\n",
       "\n",
       "    .dataframe thead th {\n",
       "        text-align: right;\n",
       "    }\n",
       "</style>\n",
       "<table border=\"1\" class=\"dataframe\">\n",
       "  <thead>\n",
       "    <tr style=\"text-align: right;\">\n",
       "      <th></th>\n",
       "      <th>Duration</th>\n",
       "      <th>Date</th>\n",
       "      <th>Pulse</th>\n",
       "      <th>Maxpulse</th>\n",
       "      <th>Calories</th>\n",
       "    </tr>\n",
       "  </thead>\n",
       "  <tbody>\n",
       "    <tr>\n",
       "      <th>0</th>\n",
       "      <td>60</td>\n",
       "      <td>2020-12-01</td>\n",
       "      <td>110</td>\n",
       "      <td>130</td>\n",
       "      <td>409.10</td>\n",
       "    </tr>\n",
       "    <tr>\n",
       "      <th>1</th>\n",
       "      <td>60</td>\n",
       "      <td>2020-12-02</td>\n",
       "      <td>117</td>\n",
       "      <td>145</td>\n",
       "      <td>479.00</td>\n",
       "    </tr>\n",
       "    <tr>\n",
       "      <th>2</th>\n",
       "      <td>60</td>\n",
       "      <td>2020-12-03</td>\n",
       "      <td>103</td>\n",
       "      <td>135</td>\n",
       "      <td>340.00</td>\n",
       "    </tr>\n",
       "    <tr>\n",
       "      <th>3</th>\n",
       "      <td>45</td>\n",
       "      <td>2020-12-04</td>\n",
       "      <td>109</td>\n",
       "      <td>175</td>\n",
       "      <td>282.40</td>\n",
       "    </tr>\n",
       "    <tr>\n",
       "      <th>4</th>\n",
       "      <td>45</td>\n",
       "      <td>2020-12-05</td>\n",
       "      <td>117</td>\n",
       "      <td>148</td>\n",
       "      <td>406.00</td>\n",
       "    </tr>\n",
       "    <tr>\n",
       "      <th>5</th>\n",
       "      <td>60</td>\n",
       "      <td>2020-12-06</td>\n",
       "      <td>102</td>\n",
       "      <td>127</td>\n",
       "      <td>300.00</td>\n",
       "    </tr>\n",
       "    <tr>\n",
       "      <th>6</th>\n",
       "      <td>60</td>\n",
       "      <td>2020-12-07</td>\n",
       "      <td>110</td>\n",
       "      <td>136</td>\n",
       "      <td>374.00</td>\n",
       "    </tr>\n",
       "    <tr>\n",
       "      <th>7</th>\n",
       "      <td>450</td>\n",
       "      <td>2020-12-08</td>\n",
       "      <td>104</td>\n",
       "      <td>134</td>\n",
       "      <td>253.30</td>\n",
       "    </tr>\n",
       "    <tr>\n",
       "      <th>8</th>\n",
       "      <td>30</td>\n",
       "      <td>2020-12-09</td>\n",
       "      <td>109</td>\n",
       "      <td>133</td>\n",
       "      <td>195.10</td>\n",
       "    </tr>\n",
       "    <tr>\n",
       "      <th>9</th>\n",
       "      <td>60</td>\n",
       "      <td>2020-12-10</td>\n",
       "      <td>98</td>\n",
       "      <td>124</td>\n",
       "      <td>269.00</td>\n",
       "    </tr>\n",
       "    <tr>\n",
       "      <th>10</th>\n",
       "      <td>60</td>\n",
       "      <td>2020-12-11</td>\n",
       "      <td>103</td>\n",
       "      <td>147</td>\n",
       "      <td>329.30</td>\n",
       "    </tr>\n",
       "    <tr>\n",
       "      <th>11</th>\n",
       "      <td>60</td>\n",
       "      <td>2020-12-12</td>\n",
       "      <td>100</td>\n",
       "      <td>120</td>\n",
       "      <td>250.70</td>\n",
       "    </tr>\n",
       "    <tr>\n",
       "      <th>12</th>\n",
       "      <td>60</td>\n",
       "      <td>2020-12-12</td>\n",
       "      <td>100</td>\n",
       "      <td>120</td>\n",
       "      <td>250.70</td>\n",
       "    </tr>\n",
       "    <tr>\n",
       "      <th>13</th>\n",
       "      <td>60</td>\n",
       "      <td>2020-12-13</td>\n",
       "      <td>106</td>\n",
       "      <td>128</td>\n",
       "      <td>345.30</td>\n",
       "    </tr>\n",
       "    <tr>\n",
       "      <th>14</th>\n",
       "      <td>60</td>\n",
       "      <td>2020-12-14</td>\n",
       "      <td>104</td>\n",
       "      <td>132</td>\n",
       "      <td>379.30</td>\n",
       "    </tr>\n",
       "    <tr>\n",
       "      <th>15</th>\n",
       "      <td>60</td>\n",
       "      <td>2020-12-15</td>\n",
       "      <td>98</td>\n",
       "      <td>123</td>\n",
       "      <td>275.00</td>\n",
       "    </tr>\n",
       "    <tr>\n",
       "      <th>16</th>\n",
       "      <td>60</td>\n",
       "      <td>2020-12-16</td>\n",
       "      <td>98</td>\n",
       "      <td>120</td>\n",
       "      <td>215.20</td>\n",
       "    </tr>\n",
       "    <tr>\n",
       "      <th>17</th>\n",
       "      <td>60</td>\n",
       "      <td>2020-12-17</td>\n",
       "      <td>100</td>\n",
       "      <td>120</td>\n",
       "      <td>300.00</td>\n",
       "    </tr>\n",
       "    <tr>\n",
       "      <th>18</th>\n",
       "      <td>45</td>\n",
       "      <td>2020-12-18</td>\n",
       "      <td>90</td>\n",
       "      <td>112</td>\n",
       "      <td>304.68</td>\n",
       "    </tr>\n",
       "    <tr>\n",
       "      <th>19</th>\n",
       "      <td>60</td>\n",
       "      <td>2020-12-19</td>\n",
       "      <td>103</td>\n",
       "      <td>123</td>\n",
       "      <td>323.00</td>\n",
       "    </tr>\n",
       "    <tr>\n",
       "      <th>20</th>\n",
       "      <td>45</td>\n",
       "      <td>2020-12-20</td>\n",
       "      <td>97</td>\n",
       "      <td>125</td>\n",
       "      <td>243.00</td>\n",
       "    </tr>\n",
       "    <tr>\n",
       "      <th>21</th>\n",
       "      <td>60</td>\n",
       "      <td>2020-12-21</td>\n",
       "      <td>108</td>\n",
       "      <td>131</td>\n",
       "      <td>364.20</td>\n",
       "    </tr>\n",
       "    <tr>\n",
       "      <th>23</th>\n",
       "      <td>60</td>\n",
       "      <td>2020-12-23</td>\n",
       "      <td>130</td>\n",
       "      <td>101</td>\n",
       "      <td>300.00</td>\n",
       "    </tr>\n",
       "    <tr>\n",
       "      <th>24</th>\n",
       "      <td>45</td>\n",
       "      <td>2020-12-24</td>\n",
       "      <td>105</td>\n",
       "      <td>132</td>\n",
       "      <td>246.00</td>\n",
       "    </tr>\n",
       "    <tr>\n",
       "      <th>25</th>\n",
       "      <td>60</td>\n",
       "      <td>2020-12-25</td>\n",
       "      <td>102</td>\n",
       "      <td>126</td>\n",
       "      <td>334.50</td>\n",
       "    </tr>\n",
       "    <tr>\n",
       "      <th>26</th>\n",
       "      <td>60</td>\n",
       "      <td>2020-12-26</td>\n",
       "      <td>100</td>\n",
       "      <td>120</td>\n",
       "      <td>250.00</td>\n",
       "    </tr>\n",
       "    <tr>\n",
       "      <th>27</th>\n",
       "      <td>60</td>\n",
       "      <td>2020-12-27</td>\n",
       "      <td>92</td>\n",
       "      <td>118</td>\n",
       "      <td>241.00</td>\n",
       "    </tr>\n",
       "    <tr>\n",
       "      <th>28</th>\n",
       "      <td>60</td>\n",
       "      <td>2020-12-28</td>\n",
       "      <td>103</td>\n",
       "      <td>132</td>\n",
       "      <td>304.68</td>\n",
       "    </tr>\n",
       "    <tr>\n",
       "      <th>29</th>\n",
       "      <td>60</td>\n",
       "      <td>2020-12-29</td>\n",
       "      <td>100</td>\n",
       "      <td>132</td>\n",
       "      <td>280.00</td>\n",
       "    </tr>\n",
       "    <tr>\n",
       "      <th>30</th>\n",
       "      <td>60</td>\n",
       "      <td>2020-12-30</td>\n",
       "      <td>102</td>\n",
       "      <td>129</td>\n",
       "      <td>380.30</td>\n",
       "    </tr>\n",
       "    <tr>\n",
       "      <th>31</th>\n",
       "      <td>60</td>\n",
       "      <td>2020-12-31</td>\n",
       "      <td>92</td>\n",
       "      <td>115</td>\n",
       "      <td>243.00</td>\n",
       "    </tr>\n",
       "  </tbody>\n",
       "</table>\n",
       "</div>"
      ],
      "text/plain": [
       "    Duration       Date  Pulse  Maxpulse  Calories\n",
       "0         60 2020-12-01    110       130    409.10\n",
       "1         60 2020-12-02    117       145    479.00\n",
       "2         60 2020-12-03    103       135    340.00\n",
       "3         45 2020-12-04    109       175    282.40\n",
       "4         45 2020-12-05    117       148    406.00\n",
       "5         60 2020-12-06    102       127    300.00\n",
       "6         60 2020-12-07    110       136    374.00\n",
       "7        450 2020-12-08    104       134    253.30\n",
       "8         30 2020-12-09    109       133    195.10\n",
       "9         60 2020-12-10     98       124    269.00\n",
       "10        60 2020-12-11    103       147    329.30\n",
       "11        60 2020-12-12    100       120    250.70\n",
       "12        60 2020-12-12    100       120    250.70\n",
       "13        60 2020-12-13    106       128    345.30\n",
       "14        60 2020-12-14    104       132    379.30\n",
       "15        60 2020-12-15     98       123    275.00\n",
       "16        60 2020-12-16     98       120    215.20\n",
       "17        60 2020-12-17    100       120    300.00\n",
       "18        45 2020-12-18     90       112    304.68\n",
       "19        60 2020-12-19    103       123    323.00\n",
       "20        45 2020-12-20     97       125    243.00\n",
       "21        60 2020-12-21    108       131    364.20\n",
       "23        60 2020-12-23    130       101    300.00\n",
       "24        45 2020-12-24    105       132    246.00\n",
       "25        60 2020-12-25    102       126    334.50\n",
       "26        60 2020-12-26    100       120    250.00\n",
       "27        60 2020-12-27     92       118    241.00\n",
       "28        60 2020-12-28    103       132    304.68\n",
       "29        60 2020-12-29    100       132    280.00\n",
       "30        60 2020-12-30    102       129    380.30\n",
       "31        60 2020-12-31     92       115    243.00"
      ]
     },
     "execution_count": 30,
     "metadata": {},
     "output_type": "execute_result"
    }
   ],
   "source": [
    "DF2 = df.dropna(subset=['Date'], inplace = True)\n",
    "df"
   ]
  },
  {
   "cell_type": "code",
   "execution_count": 31,
   "id": "abe35a9a",
   "metadata": {},
   "outputs": [
    {
     "data": {
      "text/html": [
       "<div>\n",
       "<style scoped>\n",
       "    .dataframe tbody tr th:only-of-type {\n",
       "        vertical-align: middle;\n",
       "    }\n",
       "\n",
       "    .dataframe tbody tr th {\n",
       "        vertical-align: top;\n",
       "    }\n",
       "\n",
       "    .dataframe thead th {\n",
       "        text-align: right;\n",
       "    }\n",
       "</style>\n",
       "<table border=\"1\" class=\"dataframe\">\n",
       "  <thead>\n",
       "    <tr style=\"text-align: right;\">\n",
       "      <th></th>\n",
       "      <th>Duration</th>\n",
       "      <th>Date</th>\n",
       "      <th>Pulse</th>\n",
       "      <th>Maxpulse</th>\n",
       "      <th>Calories</th>\n",
       "    </tr>\n",
       "  </thead>\n",
       "  <tbody>\n",
       "    <tr>\n",
       "      <th>4</th>\n",
       "      <td>45</td>\n",
       "      <td>2020-12-05</td>\n",
       "      <td>117</td>\n",
       "      <td>148</td>\n",
       "      <td>406.0</td>\n",
       "    </tr>\n",
       "    <tr>\n",
       "      <th>5</th>\n",
       "      <td>60</td>\n",
       "      <td>2020-12-06</td>\n",
       "      <td>102</td>\n",
       "      <td>127</td>\n",
       "      <td>300.0</td>\n",
       "    </tr>\n",
       "  </tbody>\n",
       "</table>\n",
       "</div>"
      ],
      "text/plain": [
       "   Duration       Date  Pulse  Maxpulse  Calories\n",
       "4        45 2020-12-05    117       148     406.0\n",
       "5        60 2020-12-06    102       127     300.0"
      ]
     },
     "execution_count": 31,
     "metadata": {},
     "output_type": "execute_result"
    }
   ],
   "source": [
    "df.iloc[4:6]"
   ]
  },
  {
   "cell_type": "code",
   "execution_count": 32,
   "id": "c7815c05",
   "metadata": {},
   "outputs": [
    {
     "data": {
      "text/html": [
       "<div>\n",
       "<style scoped>\n",
       "    .dataframe tbody tr th:only-of-type {\n",
       "        vertical-align: middle;\n",
       "    }\n",
       "\n",
       "    .dataframe tbody tr th {\n",
       "        vertical-align: top;\n",
       "    }\n",
       "\n",
       "    .dataframe thead th {\n",
       "        text-align: right;\n",
       "    }\n",
       "</style>\n",
       "<table border=\"1\" class=\"dataframe\">\n",
       "  <thead>\n",
       "    <tr style=\"text-align: right;\">\n",
       "      <th></th>\n",
       "      <th>Duration</th>\n",
       "      <th>Date</th>\n",
       "    </tr>\n",
       "  </thead>\n",
       "  <tbody>\n",
       "    <tr>\n",
       "      <th>4</th>\n",
       "      <td>45</td>\n",
       "      <td>2020-12-05</td>\n",
       "    </tr>\n",
       "    <tr>\n",
       "      <th>5</th>\n",
       "      <td>60</td>\n",
       "      <td>2020-12-06</td>\n",
       "    </tr>\n",
       "  </tbody>\n",
       "</table>\n",
       "</div>"
      ],
      "text/plain": [
       "   Duration       Date\n",
       "4        45 2020-12-05\n",
       "5        60 2020-12-06"
      ]
     },
     "execution_count": 32,
     "metadata": {},
     "output_type": "execute_result"
    }
   ],
   "source": [
    "df.iloc[4:6, 0:2]"
   ]
  },
  {
   "cell_type": "code",
   "execution_count": 33,
   "id": "907b9ea3",
   "metadata": {},
   "outputs": [
    {
     "data": {
      "text/html": [
       "<div>\n",
       "<style scoped>\n",
       "    .dataframe tbody tr th:only-of-type {\n",
       "        vertical-align: middle;\n",
       "    }\n",
       "\n",
       "    .dataframe tbody tr th {\n",
       "        vertical-align: top;\n",
       "    }\n",
       "\n",
       "    .dataframe thead th {\n",
       "        text-align: right;\n",
       "    }\n",
       "</style>\n",
       "<table border=\"1\" class=\"dataframe\">\n",
       "  <thead>\n",
       "    <tr style=\"text-align: right;\">\n",
       "      <th></th>\n",
       "      <th>Duration</th>\n",
       "      <th>Date</th>\n",
       "      <th>Pulse</th>\n",
       "      <th>Maxpulse</th>\n",
       "      <th>Calories</th>\n",
       "    </tr>\n",
       "  </thead>\n",
       "  <tbody>\n",
       "    <tr>\n",
       "      <th>4</th>\n",
       "      <td>45</td>\n",
       "      <td>2020-12-05</td>\n",
       "      <td>117</td>\n",
       "      <td>148</td>\n",
       "      <td>406.0</td>\n",
       "    </tr>\n",
       "    <tr>\n",
       "      <th>5</th>\n",
       "      <td>60</td>\n",
       "      <td>2020-12-06</td>\n",
       "      <td>102</td>\n",
       "      <td>127</td>\n",
       "      <td>300.0</td>\n",
       "    </tr>\n",
       "    <tr>\n",
       "      <th>6</th>\n",
       "      <td>60</td>\n",
       "      <td>2020-12-07</td>\n",
       "      <td>110</td>\n",
       "      <td>136</td>\n",
       "      <td>374.0</td>\n",
       "    </tr>\n",
       "  </tbody>\n",
       "</table>\n",
       "</div>"
      ],
      "text/plain": [
       "   Duration       Date  Pulse  Maxpulse  Calories\n",
       "4        45 2020-12-05    117       148     406.0\n",
       "5        60 2020-12-06    102       127     300.0\n",
       "6        60 2020-12-07    110       136     374.0"
      ]
     },
     "execution_count": 33,
     "metadata": {},
     "output_type": "execute_result"
    }
   ],
   "source": [
    "df.loc[4:6]"
   ]
  },
  {
   "cell_type": "code",
   "execution_count": 34,
   "id": "ade56c15",
   "metadata": {},
   "outputs": [
    {
     "data": {
      "text/html": [
       "<div>\n",
       "<style scoped>\n",
       "    .dataframe tbody tr th:only-of-type {\n",
       "        vertical-align: middle;\n",
       "    }\n",
       "\n",
       "    .dataframe tbody tr th {\n",
       "        vertical-align: top;\n",
       "    }\n",
       "\n",
       "    .dataframe thead th {\n",
       "        text-align: right;\n",
       "    }\n",
       "</style>\n",
       "<table border=\"1\" class=\"dataframe\">\n",
       "  <thead>\n",
       "    <tr style=\"text-align: right;\">\n",
       "      <th></th>\n",
       "      <th>Duration</th>\n",
       "      <th>Date</th>\n",
       "      <th>Pulse</th>\n",
       "      <th>Maxpulse</th>\n",
       "      <th>Calories</th>\n",
       "    </tr>\n",
       "  </thead>\n",
       "  <tbody>\n",
       "    <tr>\n",
       "      <th>0</th>\n",
       "      <td>60</td>\n",
       "      <td>2020-12-01</td>\n",
       "      <td>110</td>\n",
       "      <td>130</td>\n",
       "      <td>409.10</td>\n",
       "    </tr>\n",
       "    <tr>\n",
       "      <th>1</th>\n",
       "      <td>60</td>\n",
       "      <td>2020-12-02</td>\n",
       "      <td>117</td>\n",
       "      <td>145</td>\n",
       "      <td>479.00</td>\n",
       "    </tr>\n",
       "    <tr>\n",
       "      <th>2</th>\n",
       "      <td>60</td>\n",
       "      <td>2020-12-03</td>\n",
       "      <td>103</td>\n",
       "      <td>135</td>\n",
       "      <td>340.00</td>\n",
       "    </tr>\n",
       "    <tr>\n",
       "      <th>3</th>\n",
       "      <td>45</td>\n",
       "      <td>2020-12-04</td>\n",
       "      <td>109</td>\n",
       "      <td>175</td>\n",
       "      <td>282.40</td>\n",
       "    </tr>\n",
       "    <tr>\n",
       "      <th>4</th>\n",
       "      <td>45</td>\n",
       "      <td>2020-12-05</td>\n",
       "      <td>117</td>\n",
       "      <td>148</td>\n",
       "      <td>406.00</td>\n",
       "    </tr>\n",
       "    <tr>\n",
       "      <th>5</th>\n",
       "      <td>60</td>\n",
       "      <td>2020-12-06</td>\n",
       "      <td>102</td>\n",
       "      <td>127</td>\n",
       "      <td>300.00</td>\n",
       "    </tr>\n",
       "    <tr>\n",
       "      <th>6</th>\n",
       "      <td>60</td>\n",
       "      <td>2020-12-07</td>\n",
       "      <td>110</td>\n",
       "      <td>136</td>\n",
       "      <td>374.00</td>\n",
       "    </tr>\n",
       "    <tr>\n",
       "      <th>7</th>\n",
       "      <td>45</td>\n",
       "      <td>2020-12-08</td>\n",
       "      <td>104</td>\n",
       "      <td>134</td>\n",
       "      <td>253.30</td>\n",
       "    </tr>\n",
       "    <tr>\n",
       "      <th>8</th>\n",
       "      <td>30</td>\n",
       "      <td>2020-12-09</td>\n",
       "      <td>109</td>\n",
       "      <td>133</td>\n",
       "      <td>195.10</td>\n",
       "    </tr>\n",
       "    <tr>\n",
       "      <th>9</th>\n",
       "      <td>60</td>\n",
       "      <td>2020-12-10</td>\n",
       "      <td>98</td>\n",
       "      <td>124</td>\n",
       "      <td>269.00</td>\n",
       "    </tr>\n",
       "    <tr>\n",
       "      <th>10</th>\n",
       "      <td>60</td>\n",
       "      <td>2020-12-11</td>\n",
       "      <td>103</td>\n",
       "      <td>147</td>\n",
       "      <td>329.30</td>\n",
       "    </tr>\n",
       "    <tr>\n",
       "      <th>11</th>\n",
       "      <td>60</td>\n",
       "      <td>2020-12-12</td>\n",
       "      <td>100</td>\n",
       "      <td>120</td>\n",
       "      <td>250.70</td>\n",
       "    </tr>\n",
       "    <tr>\n",
       "      <th>12</th>\n",
       "      <td>60</td>\n",
       "      <td>2020-12-12</td>\n",
       "      <td>100</td>\n",
       "      <td>120</td>\n",
       "      <td>250.70</td>\n",
       "    </tr>\n",
       "    <tr>\n",
       "      <th>13</th>\n",
       "      <td>60</td>\n",
       "      <td>2020-12-13</td>\n",
       "      <td>106</td>\n",
       "      <td>128</td>\n",
       "      <td>345.30</td>\n",
       "    </tr>\n",
       "    <tr>\n",
       "      <th>14</th>\n",
       "      <td>60</td>\n",
       "      <td>2020-12-14</td>\n",
       "      <td>104</td>\n",
       "      <td>132</td>\n",
       "      <td>379.30</td>\n",
       "    </tr>\n",
       "    <tr>\n",
       "      <th>15</th>\n",
       "      <td>60</td>\n",
       "      <td>2020-12-15</td>\n",
       "      <td>98</td>\n",
       "      <td>123</td>\n",
       "      <td>275.00</td>\n",
       "    </tr>\n",
       "    <tr>\n",
       "      <th>16</th>\n",
       "      <td>60</td>\n",
       "      <td>2020-12-16</td>\n",
       "      <td>98</td>\n",
       "      <td>120</td>\n",
       "      <td>215.20</td>\n",
       "    </tr>\n",
       "    <tr>\n",
       "      <th>17</th>\n",
       "      <td>60</td>\n",
       "      <td>2020-12-17</td>\n",
       "      <td>100</td>\n",
       "      <td>120</td>\n",
       "      <td>300.00</td>\n",
       "    </tr>\n",
       "    <tr>\n",
       "      <th>18</th>\n",
       "      <td>45</td>\n",
       "      <td>2020-12-18</td>\n",
       "      <td>90</td>\n",
       "      <td>112</td>\n",
       "      <td>304.68</td>\n",
       "    </tr>\n",
       "    <tr>\n",
       "      <th>19</th>\n",
       "      <td>60</td>\n",
       "      <td>2020-12-19</td>\n",
       "      <td>103</td>\n",
       "      <td>123</td>\n",
       "      <td>323.00</td>\n",
       "    </tr>\n",
       "    <tr>\n",
       "      <th>20</th>\n",
       "      <td>45</td>\n",
       "      <td>2020-12-20</td>\n",
       "      <td>97</td>\n",
       "      <td>125</td>\n",
       "      <td>243.00</td>\n",
       "    </tr>\n",
       "    <tr>\n",
       "      <th>21</th>\n",
       "      <td>60</td>\n",
       "      <td>2020-12-21</td>\n",
       "      <td>108</td>\n",
       "      <td>131</td>\n",
       "      <td>364.20</td>\n",
       "    </tr>\n",
       "    <tr>\n",
       "      <th>23</th>\n",
       "      <td>60</td>\n",
       "      <td>2020-12-23</td>\n",
       "      <td>130</td>\n",
       "      <td>101</td>\n",
       "      <td>300.00</td>\n",
       "    </tr>\n",
       "    <tr>\n",
       "      <th>24</th>\n",
       "      <td>45</td>\n",
       "      <td>2020-12-24</td>\n",
       "      <td>105</td>\n",
       "      <td>132</td>\n",
       "      <td>246.00</td>\n",
       "    </tr>\n",
       "    <tr>\n",
       "      <th>25</th>\n",
       "      <td>60</td>\n",
       "      <td>2020-12-25</td>\n",
       "      <td>102</td>\n",
       "      <td>126</td>\n",
       "      <td>334.50</td>\n",
       "    </tr>\n",
       "    <tr>\n",
       "      <th>26</th>\n",
       "      <td>60</td>\n",
       "      <td>2020-12-26</td>\n",
       "      <td>100</td>\n",
       "      <td>120</td>\n",
       "      <td>250.00</td>\n",
       "    </tr>\n",
       "    <tr>\n",
       "      <th>27</th>\n",
       "      <td>60</td>\n",
       "      <td>2020-12-27</td>\n",
       "      <td>92</td>\n",
       "      <td>118</td>\n",
       "      <td>241.00</td>\n",
       "    </tr>\n",
       "    <tr>\n",
       "      <th>28</th>\n",
       "      <td>60</td>\n",
       "      <td>2020-12-28</td>\n",
       "      <td>103</td>\n",
       "      <td>132</td>\n",
       "      <td>304.68</td>\n",
       "    </tr>\n",
       "    <tr>\n",
       "      <th>29</th>\n",
       "      <td>60</td>\n",
       "      <td>2020-12-29</td>\n",
       "      <td>100</td>\n",
       "      <td>132</td>\n",
       "      <td>280.00</td>\n",
       "    </tr>\n",
       "    <tr>\n",
       "      <th>30</th>\n",
       "      <td>60</td>\n",
       "      <td>2020-12-30</td>\n",
       "      <td>102</td>\n",
       "      <td>129</td>\n",
       "      <td>380.30</td>\n",
       "    </tr>\n",
       "    <tr>\n",
       "      <th>31</th>\n",
       "      <td>60</td>\n",
       "      <td>2020-12-31</td>\n",
       "      <td>92</td>\n",
       "      <td>115</td>\n",
       "      <td>243.00</td>\n",
       "    </tr>\n",
       "  </tbody>\n",
       "</table>\n",
       "</div>"
      ],
      "text/plain": [
       "    Duration       Date  Pulse  Maxpulse  Calories\n",
       "0         60 2020-12-01    110       130    409.10\n",
       "1         60 2020-12-02    117       145    479.00\n",
       "2         60 2020-12-03    103       135    340.00\n",
       "3         45 2020-12-04    109       175    282.40\n",
       "4         45 2020-12-05    117       148    406.00\n",
       "5         60 2020-12-06    102       127    300.00\n",
       "6         60 2020-12-07    110       136    374.00\n",
       "7         45 2020-12-08    104       134    253.30\n",
       "8         30 2020-12-09    109       133    195.10\n",
       "9         60 2020-12-10     98       124    269.00\n",
       "10        60 2020-12-11    103       147    329.30\n",
       "11        60 2020-12-12    100       120    250.70\n",
       "12        60 2020-12-12    100       120    250.70\n",
       "13        60 2020-12-13    106       128    345.30\n",
       "14        60 2020-12-14    104       132    379.30\n",
       "15        60 2020-12-15     98       123    275.00\n",
       "16        60 2020-12-16     98       120    215.20\n",
       "17        60 2020-12-17    100       120    300.00\n",
       "18        45 2020-12-18     90       112    304.68\n",
       "19        60 2020-12-19    103       123    323.00\n",
       "20        45 2020-12-20     97       125    243.00\n",
       "21        60 2020-12-21    108       131    364.20\n",
       "23        60 2020-12-23    130       101    300.00\n",
       "24        45 2020-12-24    105       132    246.00\n",
       "25        60 2020-12-25    102       126    334.50\n",
       "26        60 2020-12-26    100       120    250.00\n",
       "27        60 2020-12-27     92       118    241.00\n",
       "28        60 2020-12-28    103       132    304.68\n",
       "29        60 2020-12-29    100       132    280.00\n",
       "30        60 2020-12-30    102       129    380.30\n",
       "31        60 2020-12-31     92       115    243.00"
      ]
     },
     "execution_count": 34,
     "metadata": {},
     "output_type": "execute_result"
    }
   ],
   "source": [
    "# Replacing Values \n",
    "df.loc[7, 'Duration'] = 45\n",
    "df"
   ]
  },
  {
   "cell_type": "code",
   "execution_count": 35,
   "id": "bc3c0d18",
   "metadata": {},
   "outputs": [],
   "source": [
    "for x in df.index:\n",
    "  if df.loc[x, \"Duration\"] > 120:\n",
    "    df.loc[x, \"Duration\"] = 120\n",
    "    "
   ]
  },
  {
   "cell_type": "code",
   "execution_count": 36,
   "id": "b0246193",
   "metadata": {},
   "outputs": [],
   "source": [
    "for x in df.index:\n",
    "  if df.loc[x, \"Duration\"] > 120:\n",
    "    df.drop(x, inplace = True)"
   ]
  },
  {
   "cell_type": "code",
   "execution_count": 37,
   "id": "692e7938",
   "metadata": {},
   "outputs": [
    {
     "name": "stdout",
     "output_type": "stream",
     "text": [
      "0     False\n",
      "1     False\n",
      "2     False\n",
      "3     False\n",
      "4      True\n",
      "5     False\n",
      "6      True\n",
      "7     False\n",
      "8      True\n",
      "9     False\n",
      "10     True\n",
      "11    False\n",
      "12     True\n",
      "13    False\n",
      "14     True\n",
      "15     True\n",
      "16     True\n",
      "17     True\n",
      "18    False\n",
      "19     True\n",
      "20    False\n",
      "21    False\n",
      "23    False\n",
      "24    False\n",
      "25     True\n",
      "26     True\n",
      "27    False\n",
      "28     True\n",
      "29     True\n",
      "30     True\n",
      "31     True\n",
      "Name: Pulse, dtype: bool\n"
     ]
    }
   ],
   "source": [
    "# Removing Duplicates\n",
    "print(df['Pulse'].duplicated())"
   ]
  },
  {
   "cell_type": "code",
   "execution_count": 38,
   "id": "dc27bbec",
   "metadata": {},
   "outputs": [],
   "source": [
    "df.drop_duplicates(inplace = True)"
   ]
  },
  {
   "cell_type": "code",
   "execution_count": 39,
   "id": "97367b90",
   "metadata": {},
   "outputs": [
    {
     "data": {
      "text/html": [
       "<div>\n",
       "<style scoped>\n",
       "    .dataframe tbody tr th:only-of-type {\n",
       "        vertical-align: middle;\n",
       "    }\n",
       "\n",
       "    .dataframe tbody tr th {\n",
       "        vertical-align: top;\n",
       "    }\n",
       "\n",
       "    .dataframe thead th {\n",
       "        text-align: right;\n",
       "    }\n",
       "</style>\n",
       "<table border=\"1\" class=\"dataframe\">\n",
       "  <thead>\n",
       "    <tr style=\"text-align: right;\">\n",
       "      <th></th>\n",
       "      <th>Duration</th>\n",
       "      <th>Pulse</th>\n",
       "      <th>Maxpulse</th>\n",
       "      <th>Calories</th>\n",
       "    </tr>\n",
       "  </thead>\n",
       "  <tbody>\n",
       "    <tr>\n",
       "      <th>Duration</th>\n",
       "      <td>1.000000</td>\n",
       "      <td>-0.083417</td>\n",
       "      <td>-0.296585</td>\n",
       "      <td>0.338213</td>\n",
       "    </tr>\n",
       "    <tr>\n",
       "      <th>Pulse</th>\n",
       "      <td>-0.083417</td>\n",
       "      <td>1.000000</td>\n",
       "      <td>0.261426</td>\n",
       "      <td>0.478723</td>\n",
       "    </tr>\n",
       "    <tr>\n",
       "      <th>Maxpulse</th>\n",
       "      <td>-0.296585</td>\n",
       "      <td>0.261426</td>\n",
       "      <td>1.000000</td>\n",
       "      <td>0.329600</td>\n",
       "    </tr>\n",
       "    <tr>\n",
       "      <th>Calories</th>\n",
       "      <td>0.338213</td>\n",
       "      <td>0.478723</td>\n",
       "      <td>0.329600</td>\n",
       "      <td>1.000000</td>\n",
       "    </tr>\n",
       "  </tbody>\n",
       "</table>\n",
       "</div>"
      ],
      "text/plain": [
       "          Duration     Pulse  Maxpulse  Calories\n",
       "Duration  1.000000 -0.083417 -0.296585  0.338213\n",
       "Pulse    -0.083417  1.000000  0.261426  0.478723\n",
       "Maxpulse -0.296585  0.261426  1.000000  0.329600\n",
       "Calories  0.338213  0.478723  0.329600  1.000000"
      ]
     },
     "execution_count": 39,
     "metadata": {},
     "output_type": "execute_result"
    }
   ],
   "source": [
    "# Finding Relationships\n",
    "df.corr()"
   ]
  },
  {
   "cell_type": "markdown",
   "id": "79ec46f9",
   "metadata": {},
   "source": [
    "Perfect Correlation:\n",
    "We can see that \"Duration\" and \"Duration\" got the number 1.000000, which makes sense, each column always has a perfect relationship with itself.\n",
    "\n",
    "Good Correlation:\n",
    "\"Duration\" and \"Calories\" got a 0.922721 correlation, which is a very good correlation, and we can predict that the longer you work out, the more calories you burn, and the other way around: if you burned a lot of calories, you probably had a long work out.\n",
    "\n",
    "Bad Correlation:\n",
    "\"Duration\" and \"Maxpulse\" got a 0.009403 correlation, which is a very bad correlation, meaning that we can not predict the max pulse by just looking at the duration of the work out, and vice versa."
   ]
  },
  {
   "cell_type": "markdown",
   "id": "14808a31",
   "metadata": {},
   "source": [
    "\n",
    "# Plotting"
   ]
  },
  {
   "cell_type": "code",
   "execution_count": 40,
   "id": "1523c08c",
   "metadata": {},
   "outputs": [
    {
     "data": {
      "image/png": "[encoded data removed]",
      "text/plain": [
       "<Figure size 432x288 with 1 Axes>"
      ]
     },
     "metadata": {
      "needs_background": "light"
     },
     "output_type": "display_data"
    }
   ],
   "source": [
    "import matplotlib.pyplot as plt\n",
    "df = pd.read_csv('6.1 Data.csv')\n",
    "df.plot()\n",
    "plt.show()"
   ]
  },
  {
   "cell_type": "markdown",
   "id": "b4fdadcd",
   "metadata": {},
   "source": [
    "# Scatter Plot"
   ]
  },
  {
   "cell_type": "code",
   "execution_count": 41,
   "id": "a7374dbc",
   "metadata": {},
   "outputs": [
    {
     "data": {
      "image/png": "[encoded data removed]",
      "text/plain": [
       "<Figure size 432x288 with 1 Axes>"
      ]
     },
     "metadata": {
      "needs_background": "light"
     },
     "output_type": "display_data"
    }
   ],
   "source": [
    "df.plot(kind = 'scatter', x = 'Duration', y = 'Calories')\n",
    "plt.show()"
   ]
  },
  {
   "cell_type": "code",
   "execution_count": 42,
   "id": "f06ce6b2",
   "metadata": {},
   "outputs": [
    {
     "data": {
      "image/png": "[encoded data removed]",
      "text/plain": [
       "<Figure size 432x288 with 1 Axes>"
      ]
     },
     "metadata": {
      "needs_background": "light"
     },
     "output_type": "display_data"
    }
   ],
   "source": [
    "df.plot(kind = 'scatter', x = 'Duration', y = 'Maxpulse')\n",
    "plt.show()"
   ]
  },
  {
   "cell_type": "markdown",
   "id": "3d6a0a0d",
   "metadata": {},
   "source": [
    "# Histogram"
   ]
  },
  {
   "cell_type": "code",
   "execution_count": 43,
   "id": "a6718bbb",
   "metadata": {},
   "outputs": [
    {
     "data": {
      "text/plain": [
       "<AxesSubplot:ylabel='Frequency'>"
      ]
     },
     "execution_count": 43,
     "metadata": {},
     "output_type": "execute_result"
    },
    {
     "data": {
      "image/png": "[encoded data removed]",
      "text/plain": [
       "<Figure size 432x288 with 1 Axes>"
      ]
     },
     "metadata": {
      "needs_background": "light"
     },
     "output_type": "display_data"
    }
   ],
   "source": [
    "df[\"Duration\"].plot(kind = 'hist')"
   ]
  },
  {
   "cell_type": "markdown",
   "id": "08fed97b",
   "metadata": {},
   "source": [
    "# loc[ ] Method\n",
    "The loc[ ] is a label-based method used for selecting data as well as updating it. \n",
    "This is done by passing the name (label) of the row or column that we wish to select.\n",
    "\n",
    "Syntax: loc[row_label, column_label]"
   ]
  },
  {
   "cell_type": "code",
   "execution_count": 44,
   "id": "ace4adb8",
   "metadata": {},
   "outputs": [
    {
     "data": {
      "text/html": [
       "<div>\n",
       "<style scoped>\n",
       "    .dataframe tbody tr th:only-of-type {\n",
       "        vertical-align: middle;\n",
       "    }\n",
       "\n",
       "    .dataframe tbody tr th {\n",
       "        vertical-align: top;\n",
       "    }\n",
       "\n",
       "    .dataframe thead th {\n",
       "        text-align: right;\n",
       "    }\n",
       "</style>\n",
       "<table border=\"1\" class=\"dataframe\">\n",
       "  <thead>\n",
       "    <tr style=\"text-align: right;\">\n",
       "      <th></th>\n",
       "      <th>id</th>\n",
       "      <th>age</th>\n",
       "      <th>group</th>\n",
       "      <th>city</th>\n",
       "      <th>gender</th>\n",
       "      <th>degree</th>\n",
       "    </tr>\n",
       "  </thead>\n",
       "  <tbody>\n",
       "    <tr>\n",
       "      <th>0</th>\n",
       "      <td>101</td>\n",
       "      <td>20</td>\n",
       "      <td>A</td>\n",
       "      <td>Tier1</td>\n",
       "      <td>M</td>\n",
       "      <td>econ</td>\n",
       "    </tr>\n",
       "    <tr>\n",
       "      <th>1</th>\n",
       "      <td>102</td>\n",
       "      <td>22</td>\n",
       "      <td>B</td>\n",
       "      <td>Tier2</td>\n",
       "      <td>F</td>\n",
       "      <td>econ</td>\n",
       "    </tr>\n",
       "    <tr>\n",
       "      <th>2</th>\n",
       "      <td>103</td>\n",
       "      <td>23</td>\n",
       "      <td>C</td>\n",
       "      <td>Tier2</td>\n",
       "      <td>F</td>\n",
       "      <td>maths</td>\n",
       "    </tr>\n",
       "    <tr>\n",
       "      <th>3</th>\n",
       "      <td>104</td>\n",
       "      <td>21</td>\n",
       "      <td>C</td>\n",
       "      <td>Tier3</td>\n",
       "      <td>M</td>\n",
       "      <td>finance</td>\n",
       "    </tr>\n",
       "    <tr>\n",
       "      <th>4</th>\n",
       "      <td>105</td>\n",
       "      <td>22</td>\n",
       "      <td>B</td>\n",
       "      <td>Tier1</td>\n",
       "      <td>M</td>\n",
       "      <td>history</td>\n",
       "    </tr>\n",
       "    <tr>\n",
       "      <th>5</th>\n",
       "      <td>106</td>\n",
       "      <td>21</td>\n",
       "      <td>A</td>\n",
       "      <td>Tier2</td>\n",
       "      <td>M</td>\n",
       "      <td>science</td>\n",
       "    </tr>\n",
       "    <tr>\n",
       "      <th>6</th>\n",
       "      <td>107</td>\n",
       "      <td>25</td>\n",
       "      <td>A</td>\n",
       "      <td>Tier1</td>\n",
       "      <td>F</td>\n",
       "      <td>marketing</td>\n",
       "    </tr>\n",
       "  </tbody>\n",
       "</table>\n",
       "</div>"
      ],
      "text/plain": [
       "    id  age group   city gender     degree\n",
       "0  101   20     A  Tier1      M       econ\n",
       "1  102   22     B  Tier2      F       econ\n",
       "2  103   23     C  Tier2      F      maths\n",
       "3  104   21     C  Tier3      M    finance\n",
       "4  105   22     B  Tier1      M    history\n",
       "5  106   21     A  Tier2      M    science\n",
       "6  107   25     A  Tier1      F  marketing"
      ]
     },
     "execution_count": 44,
     "metadata": {},
     "output_type": "execute_result"
    }
   ],
   "source": [
    "df = pd.DataFrame({\n",
    "    'id': [ 101, 102, 103, 104, 105, 106, 107],\n",
    "    'age': [ 20, 22, 23, 21, 22, 21, 25],\n",
    "    'group': [ 'A', 'B', 'C', 'C', 'B', 'A', 'A'],\n",
    "    'city': [ 'Tier1', 'Tier2', 'Tier2', 'Tier3', 'Tier1', 'Tier2', 'Tier1'],\n",
    "    'gender': [ 'M', 'F', 'F', 'M', 'M', 'M', 'F'],\n",
    "    'degree': [ 'econ', 'econ', 'maths', 'finance', 'history', 'science', 'marketing']\n",
    "})\n",
    " \n",
    "df"
   ]
  },
  {
   "cell_type": "code",
   "execution_count": 45,
   "id": "37791ec5",
   "metadata": {},
   "outputs": [
    {
     "data": {
      "text/html": [
       "<div>\n",
       "<style scoped>\n",
       "    .dataframe tbody tr th:only-of-type {\n",
       "        vertical-align: middle;\n",
       "    }\n",
       "\n",
       "    .dataframe tbody tr th {\n",
       "        vertical-align: top;\n",
       "    }\n",
       "\n",
       "    .dataframe thead th {\n",
       "        text-align: right;\n",
       "    }\n",
       "</style>\n",
       "<table border=\"1\" class=\"dataframe\">\n",
       "  <thead>\n",
       "    <tr style=\"text-align: right;\">\n",
       "      <th></th>\n",
       "      <th>age</th>\n",
       "      <th>group</th>\n",
       "      <th>city</th>\n",
       "      <th>gender</th>\n",
       "      <th>degree</th>\n",
       "    </tr>\n",
       "    <tr>\n",
       "      <th>id</th>\n",
       "      <th></th>\n",
       "      <th></th>\n",
       "      <th></th>\n",
       "      <th></th>\n",
       "      <th></th>\n",
       "    </tr>\n",
       "  </thead>\n",
       "  <tbody>\n",
       "    <tr>\n",
       "      <th>101</th>\n",
       "      <td>20</td>\n",
       "      <td>A</td>\n",
       "      <td>Tier1</td>\n",
       "      <td>M</td>\n",
       "      <td>econ</td>\n",
       "    </tr>\n",
       "    <tr>\n",
       "      <th>102</th>\n",
       "      <td>22</td>\n",
       "      <td>B</td>\n",
       "      <td>Tier2</td>\n",
       "      <td>F</td>\n",
       "      <td>econ</td>\n",
       "    </tr>\n",
       "    <tr>\n",
       "      <th>103</th>\n",
       "      <td>23</td>\n",
       "      <td>C</td>\n",
       "      <td>Tier2</td>\n",
       "      <td>F</td>\n",
       "      <td>maths</td>\n",
       "    </tr>\n",
       "    <tr>\n",
       "      <th>104</th>\n",
       "      <td>21</td>\n",
       "      <td>C</td>\n",
       "      <td>Tier3</td>\n",
       "      <td>M</td>\n",
       "      <td>finance</td>\n",
       "    </tr>\n",
       "    <tr>\n",
       "      <th>105</th>\n",
       "      <td>22</td>\n",
       "      <td>B</td>\n",
       "      <td>Tier1</td>\n",
       "      <td>M</td>\n",
       "      <td>history</td>\n",
       "    </tr>\n",
       "  </tbody>\n",
       "</table>\n",
       "</div>"
      ],
      "text/plain": [
       "     age group   city gender   degree\n",
       "id                                   \n",
       "101   20     A  Tier1      M     econ\n",
       "102   22     B  Tier2      F     econ\n",
       "103   23     C  Tier2      F    maths\n",
       "104   21     C  Tier3      M  finance\n",
       "105   22     B  Tier1      M  history"
      ]
     },
     "execution_count": 45,
     "metadata": {},
     "output_type": "execute_result"
    }
   ],
   "source": [
    "df = df.set_index('id')\n",
    "df.head()"
   ]
  },
  {
   "cell_type": "code",
   "execution_count": 46,
   "id": "274aabb0",
   "metadata": {},
   "outputs": [
    {
     "data": {
      "text/plain": [
       "age          22\n",
       "group         B\n",
       "city      Tier2\n",
       "gender        F\n",
       "degree     econ\n",
       "Name: 102, dtype: object"
      ]
     },
     "execution_count": 46,
     "metadata": {},
     "output_type": "execute_result"
    }
   ],
   "source": [
    "#Selecting a row with label\n",
    "df.loc[102]"
   ]
  },
  {
   "cell_type": "code",
   "execution_count": 47,
   "id": "0682ac7b",
   "metadata": {},
   "outputs": [
    {
     "data": {
      "text/html": [
       "<div>\n",
       "<style scoped>\n",
       "    .dataframe tbody tr th:only-of-type {\n",
       "        vertical-align: middle;\n",
       "    }\n",
       "\n",
       "    .dataframe tbody tr th {\n",
       "        vertical-align: top;\n",
       "    }\n",
       "\n",
       "    .dataframe thead th {\n",
       "        text-align: right;\n",
       "    }\n",
       "</style>\n",
       "<table border=\"1\" class=\"dataframe\">\n",
       "  <thead>\n",
       "    <tr style=\"text-align: right;\">\n",
       "      <th></th>\n",
       "      <th>age</th>\n",
       "      <th>group</th>\n",
       "      <th>city</th>\n",
       "      <th>gender</th>\n",
       "      <th>degree</th>\n",
       "    </tr>\n",
       "    <tr>\n",
       "      <th>id</th>\n",
       "      <th></th>\n",
       "      <th></th>\n",
       "      <th></th>\n",
       "      <th></th>\n",
       "      <th></th>\n",
       "    </tr>\n",
       "  </thead>\n",
       "  <tbody>\n",
       "    <tr>\n",
       "      <th>101</th>\n",
       "      <td>20</td>\n",
       "      <td>A</td>\n",
       "      <td>Tier1</td>\n",
       "      <td>M</td>\n",
       "      <td>econ</td>\n",
       "    </tr>\n",
       "    <tr>\n",
       "      <th>102</th>\n",
       "      <td>22</td>\n",
       "      <td>B</td>\n",
       "      <td>Tier2</td>\n",
       "      <td>F</td>\n",
       "      <td>econ</td>\n",
       "    </tr>\n",
       "    <tr>\n",
       "      <th>103</th>\n",
       "      <td>23</td>\n",
       "      <td>C</td>\n",
       "      <td>Tier2</td>\n",
       "      <td>F</td>\n",
       "      <td>maths</td>\n",
       "    </tr>\n",
       "  </tbody>\n",
       "</table>\n",
       "</div>"
      ],
      "text/plain": [
       "     age group   city gender degree\n",
       "id                                 \n",
       "101   20     A  Tier1      M   econ\n",
       "102   22     B  Tier2      F   econ\n",
       "103   23     C  Tier2      F  maths"
      ]
     },
     "execution_count": 47,
     "metadata": {},
     "output_type": "execute_result"
    }
   ],
   "source": [
    "#Slicing using loc[]\n",
    "df.loc[101:103]"
   ]
  },
  {
   "cell_type": "code",
   "execution_count": 48,
   "id": "d6cb9775",
   "metadata": {},
   "outputs": [
    {
     "data": {
      "text/html": [
       "<div>\n",
       "<style scoped>\n",
       "    .dataframe tbody tr th:only-of-type {\n",
       "        vertical-align: middle;\n",
       "    }\n",
       "\n",
       "    .dataframe tbody tr th {\n",
       "        vertical-align: top;\n",
       "    }\n",
       "\n",
       "    .dataframe thead th {\n",
       "        text-align: right;\n",
       "    }\n",
       "</style>\n",
       "<table border=\"1\" class=\"dataframe\">\n",
       "  <thead>\n",
       "    <tr style=\"text-align: right;\">\n",
       "      <th></th>\n",
       "      <th>age</th>\n",
       "      <th>group</th>\n",
       "      <th>city</th>\n",
       "      <th>gender</th>\n",
       "      <th>degree</th>\n",
       "    </tr>\n",
       "    <tr>\n",
       "      <th>id</th>\n",
       "      <th></th>\n",
       "      <th></th>\n",
       "      <th></th>\n",
       "      <th></th>\n",
       "      <th></th>\n",
       "    </tr>\n",
       "  </thead>\n",
       "  <tbody>\n",
       "    <tr>\n",
       "      <th>102</th>\n",
       "      <td>22</td>\n",
       "      <td>B</td>\n",
       "      <td>Tier2</td>\n",
       "      <td>F</td>\n",
       "      <td>econ</td>\n",
       "    </tr>\n",
       "    <tr>\n",
       "      <th>103</th>\n",
       "      <td>23</td>\n",
       "      <td>C</td>\n",
       "      <td>Tier2</td>\n",
       "      <td>F</td>\n",
       "      <td>maths</td>\n",
       "    </tr>\n",
       "    <tr>\n",
       "      <th>105</th>\n",
       "      <td>22</td>\n",
       "      <td>B</td>\n",
       "      <td>Tier1</td>\n",
       "      <td>M</td>\n",
       "      <td>history</td>\n",
       "    </tr>\n",
       "    <tr>\n",
       "      <th>107</th>\n",
       "      <td>25</td>\n",
       "      <td>A</td>\n",
       "      <td>Tier1</td>\n",
       "      <td>F</td>\n",
       "      <td>marketing</td>\n",
       "    </tr>\n",
       "  </tbody>\n",
       "</table>\n",
       "</div>"
      ],
      "text/plain": [
       "     age group   city gender     degree\n",
       "id                                     \n",
       "102   22     B  Tier2      F       econ\n",
       "103   23     C  Tier2      F      maths\n",
       "105   22     B  Tier1      M    history\n",
       "107   25     A  Tier1      F  marketing"
      ]
     },
     "execution_count": 48,
     "metadata": {},
     "output_type": "execute_result"
    }
   ],
   "source": [
    "#Selecting all rows with a given condition\n",
    "df.loc[df.age >= 22]"
   ]
  },
  {
   "cell_type": "code",
   "execution_count": 49,
   "id": "baa1a0b1",
   "metadata": {},
   "outputs": [
    {
     "data": {
      "text/html": [
       "<div>\n",
       "<style scoped>\n",
       "    .dataframe tbody tr th:only-of-type {\n",
       "        vertical-align: middle;\n",
       "    }\n",
       "\n",
       "    .dataframe tbody tr th {\n",
       "        vertical-align: top;\n",
       "    }\n",
       "\n",
       "    .dataframe thead th {\n",
       "        text-align: right;\n",
       "    }\n",
       "</style>\n",
       "<table border=\"1\" class=\"dataframe\">\n",
       "  <thead>\n",
       "    <tr style=\"text-align: right;\">\n",
       "      <th></th>\n",
       "      <th>age</th>\n",
       "      <th>group</th>\n",
       "      <th>city</th>\n",
       "      <th>gender</th>\n",
       "      <th>degree</th>\n",
       "    </tr>\n",
       "    <tr>\n",
       "      <th>id</th>\n",
       "      <th></th>\n",
       "      <th></th>\n",
       "      <th></th>\n",
       "      <th></th>\n",
       "      <th></th>\n",
       "    </tr>\n",
       "  </thead>\n",
       "  <tbody>\n",
       "    <tr>\n",
       "      <th>105</th>\n",
       "      <td>22</td>\n",
       "      <td>B</td>\n",
       "      <td>Tier1</td>\n",
       "      <td>M</td>\n",
       "      <td>history</td>\n",
       "    </tr>\n",
       "    <tr>\n",
       "      <th>107</th>\n",
       "      <td>25</td>\n",
       "      <td>A</td>\n",
       "      <td>Tier1</td>\n",
       "      <td>F</td>\n",
       "      <td>marketing</td>\n",
       "    </tr>\n",
       "  </tbody>\n",
       "</table>\n",
       "</div>"
      ],
      "text/plain": [
       "     age group   city gender     degree\n",
       "id                                     \n",
       "105   22     B  Tier1      M    history\n",
       "107   25     A  Tier1      F  marketing"
      ]
     },
     "execution_count": 49,
     "metadata": {},
     "output_type": "execute_result"
    }
   ],
   "source": [
    "#Selecting rows with multiple conditions\n",
    "df.loc[(df.age >= 22) & (df.city == 'Tier1')]"
   ]
  },
  {
   "cell_type": "code",
   "execution_count": 50,
   "id": "63353d74",
   "metadata": {},
   "outputs": [
    {
     "data": {
      "text/html": [
       "<div>\n",
       "<style scoped>\n",
       "    .dataframe tbody tr th:only-of-type {\n",
       "        vertical-align: middle;\n",
       "    }\n",
       "\n",
       "    .dataframe tbody tr th {\n",
       "        vertical-align: top;\n",
       "    }\n",
       "\n",
       "    .dataframe thead th {\n",
       "        text-align: right;\n",
       "    }\n",
       "</style>\n",
       "<table border=\"1\" class=\"dataframe\">\n",
       "  <thead>\n",
       "    <tr style=\"text-align: right;\">\n",
       "      <th></th>\n",
       "      <th>group</th>\n",
       "      <th>degree</th>\n",
       "    </tr>\n",
       "    <tr>\n",
       "      <th>id</th>\n",
       "      <th></th>\n",
       "      <th></th>\n",
       "    </tr>\n",
       "  </thead>\n",
       "  <tbody>\n",
       "    <tr>\n",
       "      <th>101</th>\n",
       "      <td>A</td>\n",
       "      <td>econ</td>\n",
       "    </tr>\n",
       "    <tr>\n",
       "      <th>104</th>\n",
       "      <td>C</td>\n",
       "      <td>finance</td>\n",
       "    </tr>\n",
       "    <tr>\n",
       "      <th>105</th>\n",
       "      <td>B</td>\n",
       "      <td>history</td>\n",
       "    </tr>\n",
       "    <tr>\n",
       "      <th>106</th>\n",
       "      <td>A</td>\n",
       "      <td>science</td>\n",
       "    </tr>\n",
       "  </tbody>\n",
       "</table>\n",
       "</div>"
      ],
      "text/plain": [
       "    group   degree\n",
       "id                \n",
       "101     A     econ\n",
       "104     C  finance\n",
       "105     B  history\n",
       "106     A  science"
      ]
     },
     "execution_count": 50,
     "metadata": {},
     "output_type": "execute_result"
    }
   ],
   "source": [
    "#Selecting columns with a given condition\n",
    "df.loc[(df.gender == 'M'), ['group', 'degree']]"
   ]
  },
  {
   "cell_type": "code",
   "execution_count": 51,
   "id": "663693ae",
   "metadata": {},
   "outputs": [
    {
     "data": {
      "text/html": [
       "<div>\n",
       "<style scoped>\n",
       "    .dataframe tbody tr th:only-of-type {\n",
       "        vertical-align: middle;\n",
       "    }\n",
       "\n",
       "    .dataframe tbody tr th {\n",
       "        vertical-align: top;\n",
       "    }\n",
       "\n",
       "    .dataframe thead th {\n",
       "        text-align: right;\n",
       "    }\n",
       "</style>\n",
       "<table border=\"1\" class=\"dataframe\">\n",
       "  <thead>\n",
       "    <tr style=\"text-align: right;\">\n",
       "      <th></th>\n",
       "      <th>age</th>\n",
       "      <th>group</th>\n",
       "      <th>city</th>\n",
       "      <th>gender</th>\n",
       "      <th>degree</th>\n",
       "    </tr>\n",
       "    <tr>\n",
       "      <th>id</th>\n",
       "      <th></th>\n",
       "      <th></th>\n",
       "      <th></th>\n",
       "      <th></th>\n",
       "      <th></th>\n",
       "    </tr>\n",
       "  </thead>\n",
       "  <tbody>\n",
       "    <tr>\n",
       "      <th>101</th>\n",
       "      <td>20</td>\n",
       "      <td>A</td>\n",
       "      <td>Tier1</td>\n",
       "      <td>M</td>\n",
       "      <td>econ</td>\n",
       "    </tr>\n",
       "    <tr>\n",
       "      <th>102</th>\n",
       "      <td>22</td>\n",
       "      <td>B</td>\n",
       "      <td>Tier2</td>\n",
       "      <td>F</td>\n",
       "      <td>econ</td>\n",
       "    </tr>\n",
       "    <tr>\n",
       "      <th>103</th>\n",
       "      <td>23</td>\n",
       "      <td>C</td>\n",
       "      <td>Tier2</td>\n",
       "      <td>F</td>\n",
       "      <td>maths</td>\n",
       "    </tr>\n",
       "    <tr>\n",
       "      <th>104</th>\n",
       "      <td>21</td>\n",
       "      <td>A</td>\n",
       "      <td>Tier3</td>\n",
       "      <td>M</td>\n",
       "      <td>finance</td>\n",
       "    </tr>\n",
       "    <tr>\n",
       "      <th>105</th>\n",
       "      <td>22</td>\n",
       "      <td>A</td>\n",
       "      <td>Tier1</td>\n",
       "      <td>M</td>\n",
       "      <td>history</td>\n",
       "    </tr>\n",
       "    <tr>\n",
       "      <th>106</th>\n",
       "      <td>21</td>\n",
       "      <td>A</td>\n",
       "      <td>Tier2</td>\n",
       "      <td>M</td>\n",
       "      <td>science</td>\n",
       "    </tr>\n",
       "    <tr>\n",
       "      <th>107</th>\n",
       "      <td>25</td>\n",
       "      <td>A</td>\n",
       "      <td>Tier1</td>\n",
       "      <td>F</td>\n",
       "      <td>marketing</td>\n",
       "    </tr>\n",
       "  </tbody>\n",
       "</table>\n",
       "</div>"
      ],
      "text/plain": [
       "     age group   city gender     degree\n",
       "id                                     \n",
       "101   20     A  Tier1      M       econ\n",
       "102   22     B  Tier2      F       econ\n",
       "103   23     C  Tier2      F      maths\n",
       "104   21     A  Tier3      M    finance\n",
       "105   22     A  Tier1      M    history\n",
       "106   21     A  Tier2      M    science\n",
       "107   25     A  Tier1      F  marketing"
      ]
     },
     "execution_count": 51,
     "metadata": {},
     "output_type": "execute_result"
    }
   ],
   "source": [
    "#Updating a column with a given condition\n",
    "df.loc[(df.gender == 'M'), ['group']] = 'A'\n",
    "df"
   ]
  },
  {
   "cell_type": "code",
   "execution_count": 52,
   "id": "d2a09488",
   "metadata": {},
   "outputs": [
    {
     "data": {
      "text/html": [
       "<div>\n",
       "<style scoped>\n",
       "    .dataframe tbody tr th:only-of-type {\n",
       "        vertical-align: middle;\n",
       "    }\n",
       "\n",
       "    .dataframe tbody tr th {\n",
       "        vertical-align: top;\n",
       "    }\n",
       "\n",
       "    .dataframe thead th {\n",
       "        text-align: right;\n",
       "    }\n",
       "</style>\n",
       "<table border=\"1\" class=\"dataframe\">\n",
       "  <thead>\n",
       "    <tr style=\"text-align: right;\">\n",
       "      <th></th>\n",
       "      <th>age</th>\n",
       "      <th>group</th>\n",
       "      <th>city</th>\n",
       "      <th>gender</th>\n",
       "      <th>degree</th>\n",
       "    </tr>\n",
       "    <tr>\n",
       "      <th>id</th>\n",
       "      <th></th>\n",
       "      <th></th>\n",
       "      <th></th>\n",
       "      <th></th>\n",
       "      <th></th>\n",
       "    </tr>\n",
       "  </thead>\n",
       "  <tbody>\n",
       "    <tr>\n",
       "      <th>101</th>\n",
       "      <td>20</td>\n",
       "      <td>A</td>\n",
       "      <td>Tier1</td>\n",
       "      <td>M</td>\n",
       "      <td>econ</td>\n",
       "    </tr>\n",
       "    <tr>\n",
       "      <th>102</th>\n",
       "      <td>22</td>\n",
       "      <td>B</td>\n",
       "      <td>Tier2</td>\n",
       "      <td>F</td>\n",
       "      <td>econ</td>\n",
       "    </tr>\n",
       "    <tr>\n",
       "      <th>103</th>\n",
       "      <td>23</td>\n",
       "      <td>B</td>\n",
       "      <td>Tier2</td>\n",
       "      <td>F</td>\n",
       "      <td>maths</td>\n",
       "    </tr>\n",
       "    <tr>\n",
       "      <th>104</th>\n",
       "      <td>21</td>\n",
       "      <td>A</td>\n",
       "      <td>Tier3</td>\n",
       "      <td>M</td>\n",
       "      <td>finance</td>\n",
       "    </tr>\n",
       "    <tr>\n",
       "      <th>105</th>\n",
       "      <td>22</td>\n",
       "      <td>A</td>\n",
       "      <td>Tier1</td>\n",
       "      <td>M</td>\n",
       "      <td>history</td>\n",
       "    </tr>\n",
       "    <tr>\n",
       "      <th>106</th>\n",
       "      <td>21</td>\n",
       "      <td>A</td>\n",
       "      <td>Tier2</td>\n",
       "      <td>M</td>\n",
       "      <td>science</td>\n",
       "    </tr>\n",
       "    <tr>\n",
       "      <th>107</th>\n",
       "      <td>25</td>\n",
       "      <td>B</td>\n",
       "      <td>Tier2</td>\n",
       "      <td>F</td>\n",
       "      <td>marketing</td>\n",
       "    </tr>\n",
       "  </tbody>\n",
       "</table>\n",
       "</div>"
      ],
      "text/plain": [
       "     age group   city gender     degree\n",
       "id                                     \n",
       "101   20     A  Tier1      M       econ\n",
       "102   22     B  Tier2      F       econ\n",
       "103   23     B  Tier2      F      maths\n",
       "104   21     A  Tier3      M    finance\n",
       "105   22     A  Tier1      M    history\n",
       "106   21     A  Tier2      M    science\n",
       "107   25     B  Tier2      F  marketing"
      ]
     },
     "execution_count": 52,
     "metadata": {},
     "output_type": "execute_result"
    }
   ],
   "source": [
    "#Updating multiple columns with a given condition\n",
    "df.loc[(df.gender == 'F'), ['group', 'city']] = ['B','Tier2']\n",
    "df"
   ]
  },
  {
   "cell_type": "markdown",
   "id": "e6f21578",
   "metadata": {},
   "source": [
    "# iloc[ ] Method\n",
    "\n",
    "The iloc[ ] is an index-based method used for data selection. In this case, we pass the positions of the row or column that we wish to select (0-based integer index). \n",
    "\n",
    "Syntax: iloc[row_position, column_position]"
   ]
  },
  {
   "cell_type": "code",
   "execution_count": 53,
   "id": "9aeec47f",
   "metadata": {},
   "outputs": [
    {
     "data": {
      "text/html": [
       "<div>\n",
       "<style scoped>\n",
       "    .dataframe tbody tr th:only-of-type {\n",
       "        vertical-align: middle;\n",
       "    }\n",
       "\n",
       "    .dataframe tbody tr th {\n",
       "        vertical-align: top;\n",
       "    }\n",
       "\n",
       "    .dataframe thead th {\n",
       "        text-align: right;\n",
       "    }\n",
       "</style>\n",
       "<table border=\"1\" class=\"dataframe\">\n",
       "  <thead>\n",
       "    <tr style=\"text-align: right;\">\n",
       "      <th></th>\n",
       "      <th>age</th>\n",
       "      <th>group</th>\n",
       "      <th>city</th>\n",
       "      <th>gender</th>\n",
       "      <th>degree</th>\n",
       "    </tr>\n",
       "    <tr>\n",
       "      <th>id</th>\n",
       "      <th></th>\n",
       "      <th></th>\n",
       "      <th></th>\n",
       "      <th></th>\n",
       "      <th></th>\n",
       "    </tr>\n",
       "  </thead>\n",
       "  <tbody>\n",
       "    <tr>\n",
       "      <th>103</th>\n",
       "      <td>23</td>\n",
       "      <td>B</td>\n",
       "      <td>Tier2</td>\n",
       "      <td>F</td>\n",
       "      <td>maths</td>\n",
       "    </tr>\n",
       "    <tr>\n",
       "      <th>105</th>\n",
       "      <td>22</td>\n",
       "      <td>A</td>\n",
       "      <td>Tier1</td>\n",
       "      <td>M</td>\n",
       "      <td>history</td>\n",
       "    </tr>\n",
       "  </tbody>\n",
       "</table>\n",
       "</div>"
      ],
      "text/plain": [
       "     age group   city gender   degree\n",
       "id                                   \n",
       "103   23     B  Tier2      F    maths\n",
       "105   22     A  Tier1      M  history"
      ]
     },
     "execution_count": 53,
     "metadata": {},
     "output_type": "execute_result"
    }
   ],
   "source": [
    "#Selecting rows with index\n",
    "df.iloc[[2,4]]"
   ]
  },
  {
   "cell_type": "code",
   "execution_count": 54,
   "id": "65533c64",
   "metadata": {},
   "outputs": [
    {
     "data": {
      "text/html": [
       "<div>\n",
       "<style scoped>\n",
       "    .dataframe tbody tr th:only-of-type {\n",
       "        vertical-align: middle;\n",
       "    }\n",
       "\n",
       "    .dataframe tbody tr th {\n",
       "        vertical-align: top;\n",
       "    }\n",
       "\n",
       "    .dataframe thead th {\n",
       "        text-align: right;\n",
       "    }\n",
       "</style>\n",
       "<table border=\"1\" class=\"dataframe\">\n",
       "  <thead>\n",
       "    <tr style=\"text-align: right;\">\n",
       "      <th></th>\n",
       "      <th>group</th>\n",
       "      <th>gender</th>\n",
       "    </tr>\n",
       "    <tr>\n",
       "      <th>id</th>\n",
       "      <th></th>\n",
       "      <th></th>\n",
       "    </tr>\n",
       "  </thead>\n",
       "  <tbody>\n",
       "    <tr>\n",
       "      <th>101</th>\n",
       "      <td>A</td>\n",
       "      <td>M</td>\n",
       "    </tr>\n",
       "    <tr>\n",
       "      <th>105</th>\n",
       "      <td>A</td>\n",
       "      <td>M</td>\n",
       "    </tr>\n",
       "  </tbody>\n",
       "</table>\n",
       "</div>"
      ],
      "text/plain": [
       "    group gender\n",
       "id              \n",
       "101     A      M\n",
       "105     A      M"
      ]
     },
     "execution_count": 54,
     "metadata": {},
     "output_type": "execute_result"
    }
   ],
   "source": [
    "#Selecting rows with particular index and particular columns\n",
    "df.iloc[[0,4],[1,3]]"
   ]
  },
  {
   "cell_type": "code",
   "execution_count": 55,
   "id": "758ebc78",
   "metadata": {},
   "outputs": [
    {
     "data": {
      "text/html": [
       "<div>\n",
       "<style scoped>\n",
       "    .dataframe tbody tr th:only-of-type {\n",
       "        vertical-align: middle;\n",
       "    }\n",
       "\n",
       "    .dataframe tbody tr th {\n",
       "        vertical-align: top;\n",
       "    }\n",
       "\n",
       "    .dataframe thead th {\n",
       "        text-align: right;\n",
       "    }\n",
       "</style>\n",
       "<table border=\"1\" class=\"dataframe\">\n",
       "  <thead>\n",
       "    <tr style=\"text-align: right;\">\n",
       "      <th></th>\n",
       "      <th>age</th>\n",
       "      <th>group</th>\n",
       "      <th>city</th>\n",
       "      <th>gender</th>\n",
       "      <th>degree</th>\n",
       "    </tr>\n",
       "    <tr>\n",
       "      <th>id</th>\n",
       "      <th></th>\n",
       "      <th></th>\n",
       "      <th></th>\n",
       "      <th></th>\n",
       "      <th></th>\n",
       "    </tr>\n",
       "  </thead>\n",
       "  <tbody>\n",
       "    <tr>\n",
       "      <th>102</th>\n",
       "      <td>22</td>\n",
       "      <td>B</td>\n",
       "      <td>Tier2</td>\n",
       "      <td>F</td>\n",
       "      <td>econ</td>\n",
       "    </tr>\n",
       "    <tr>\n",
       "      <th>103</th>\n",
       "      <td>23</td>\n",
       "      <td>B</td>\n",
       "      <td>Tier2</td>\n",
       "      <td>F</td>\n",
       "      <td>maths</td>\n",
       "    </tr>\n",
       "    <tr>\n",
       "      <th>104</th>\n",
       "      <td>21</td>\n",
       "      <td>A</td>\n",
       "      <td>Tier3</td>\n",
       "      <td>M</td>\n",
       "      <td>finance</td>\n",
       "    </tr>\n",
       "    <tr>\n",
       "      <th>105</th>\n",
       "      <td>22</td>\n",
       "      <td>A</td>\n",
       "      <td>Tier1</td>\n",
       "      <td>M</td>\n",
       "      <td>history</td>\n",
       "    </tr>\n",
       "  </tbody>\n",
       "</table>\n",
       "</div>"
      ],
      "text/plain": [
       "     age group   city gender   degree\n",
       "id                                   \n",
       "102   22     B  Tier2      F     econ\n",
       "103   23     B  Tier2      F    maths\n",
       "104   21     A  Tier3      M  finance\n",
       "105   22     A  Tier1      M  history"
      ]
     },
     "execution_count": 55,
     "metadata": {},
     "output_type": "execute_result"
    }
   ],
   "source": [
    "#Selecting range of rows\n",
    "df.iloc[1:5]"
   ]
  },
  {
   "cell_type": "code",
   "execution_count": 56,
   "id": "06d4e561",
   "metadata": {},
   "outputs": [
    {
     "data": {
      "text/html": [
       "<div>\n",
       "<style scoped>\n",
       "    .dataframe tbody tr th:only-of-type {\n",
       "        vertical-align: middle;\n",
       "    }\n",
       "\n",
       "    .dataframe tbody tr th {\n",
       "        vertical-align: top;\n",
       "    }\n",
       "\n",
       "    .dataframe thead th {\n",
       "        text-align: right;\n",
       "    }\n",
       "</style>\n",
       "<table border=\"1\" class=\"dataframe\">\n",
       "  <thead>\n",
       "    <tr style=\"text-align: right;\">\n",
       "      <th></th>\n",
       "      <th>city</th>\n",
       "      <th>gender</th>\n",
       "    </tr>\n",
       "    <tr>\n",
       "      <th>id</th>\n",
       "      <th></th>\n",
       "      <th></th>\n",
       "    </tr>\n",
       "  </thead>\n",
       "  <tbody>\n",
       "    <tr>\n",
       "      <th>102</th>\n",
       "      <td>Tier2</td>\n",
       "      <td>F</td>\n",
       "    </tr>\n",
       "    <tr>\n",
       "      <th>103</th>\n",
       "      <td>Tier2</td>\n",
       "      <td>F</td>\n",
       "    </tr>\n",
       "  </tbody>\n",
       "</table>\n",
       "</div>"
      ],
      "text/plain": [
       "      city gender\n",
       "id               \n",
       "102  Tier2      F\n",
       "103  Tier2      F"
      ]
     },
     "execution_count": 56,
     "metadata": {},
     "output_type": "execute_result"
    }
   ],
   "source": [
    "#Selecting range of rows and columns\n",
    "df.iloc[1:3,2:4]"
   ]
  },
  {
   "cell_type": "markdown",
   "id": "27a4ebb5",
   "metadata": {},
   "source": [
    "# Comparisons between loc[ ] and iloc[ ]\n",
    "\n",
    "loc[ ] and iloc[ ] with callable\n",
    "\n",
    "loc[ ] accepts a callable function as an index. The function takes one argument and returns a value valid for indexing. For demonstration:"
   ]
  },
  {
   "cell_type": "code",
   "execution_count": 57,
   "id": "eaa4a34a",
   "metadata": {},
   "outputs": [
    {
     "data": {
      "text/html": [
       "<div>\n",
       "<style scoped>\n",
       "    .dataframe tbody tr th:only-of-type {\n",
       "        vertical-align: middle;\n",
       "    }\n",
       "\n",
       "    .dataframe tbody tr th {\n",
       "        vertical-align: top;\n",
       "    }\n",
       "\n",
       "    .dataframe thead th {\n",
       "        text-align: right;\n",
       "    }\n",
       "</style>\n",
       "<table border=\"1\" class=\"dataframe\">\n",
       "  <thead>\n",
       "    <tr style=\"text-align: right;\">\n",
       "      <th></th>\n",
       "      <th>gender</th>\n",
       "      <th>degree</th>\n",
       "    </tr>\n",
       "    <tr>\n",
       "      <th>id</th>\n",
       "      <th></th>\n",
       "      <th></th>\n",
       "    </tr>\n",
       "  </thead>\n",
       "  <tbody>\n",
       "    <tr>\n",
       "      <th>101</th>\n",
       "      <td>M</td>\n",
       "      <td>econ</td>\n",
       "    </tr>\n",
       "    <tr>\n",
       "      <th>102</th>\n",
       "      <td>F</td>\n",
       "      <td>econ</td>\n",
       "    </tr>\n",
       "    <tr>\n",
       "      <th>103</th>\n",
       "      <td>F</td>\n",
       "      <td>maths</td>\n",
       "    </tr>\n",
       "    <tr>\n",
       "      <th>104</th>\n",
       "      <td>M</td>\n",
       "      <td>finance</td>\n",
       "    </tr>\n",
       "    <tr>\n",
       "      <th>105</th>\n",
       "      <td>M</td>\n",
       "      <td>history</td>\n",
       "    </tr>\n",
       "    <tr>\n",
       "      <th>106</th>\n",
       "      <td>M</td>\n",
       "      <td>science</td>\n",
       "    </tr>\n",
       "    <tr>\n",
       "      <th>107</th>\n",
       "      <td>F</td>\n",
       "      <td>marketing</td>\n",
       "    </tr>\n",
       "  </tbody>\n",
       "</table>\n",
       "</div>"
      ],
      "text/plain": [
       "    gender     degree\n",
       "id                   \n",
       "101      M       econ\n",
       "102      F       econ\n",
       "103      F      maths\n",
       "104      M    finance\n",
       "105      M    history\n",
       "106      M    science\n",
       "107      F  marketing"
      ]
     },
     "execution_count": 57,
     "metadata": {},
     "output_type": "execute_result"
    }
   ],
   "source": [
    "#Selecting columns using callable\n",
    "df.loc[:, lambda df: ['gender', 'degree']]"
   ]
  },
  {
   "cell_type": "code",
   "execution_count": 58,
   "id": "7028a71e",
   "metadata": {},
   "outputs": [
    {
     "data": {
      "text/html": [
       "<div>\n",
       "<style scoped>\n",
       "    .dataframe tbody tr th:only-of-type {\n",
       "        vertical-align: middle;\n",
       "    }\n",
       "\n",
       "    .dataframe tbody tr th {\n",
       "        vertical-align: top;\n",
       "    }\n",
       "\n",
       "    .dataframe thead th {\n",
       "        text-align: right;\n",
       "    }\n",
       "</style>\n",
       "<table border=\"1\" class=\"dataframe\">\n",
       "  <thead>\n",
       "    <tr style=\"text-align: right;\">\n",
       "      <th></th>\n",
       "      <th>age</th>\n",
       "      <th>group</th>\n",
       "      <th>city</th>\n",
       "      <th>gender</th>\n",
       "      <th>degree</th>\n",
       "    </tr>\n",
       "    <tr>\n",
       "      <th>id</th>\n",
       "      <th></th>\n",
       "      <th></th>\n",
       "      <th></th>\n",
       "      <th></th>\n",
       "      <th></th>\n",
       "    </tr>\n",
       "  </thead>\n",
       "  <tbody>\n",
       "    <tr>\n",
       "      <th>107</th>\n",
       "      <td>25</td>\n",
       "      <td>B</td>\n",
       "      <td>Tier2</td>\n",
       "      <td>F</td>\n",
       "      <td>marketing</td>\n",
       "    </tr>\n",
       "  </tbody>\n",
       "</table>\n",
       "</div>"
      ],
      "text/plain": [
       "     age group   city gender     degree\n",
       "id                                     \n",
       "107   25     B  Tier2      F  marketing"
      ]
     },
     "execution_count": 58,
     "metadata": {},
     "output_type": "execute_result"
    }
   ],
   "source": [
    "#Filtering data using callable\n",
    "df.loc[lambda df: df.age > 24, :]"
   ]
  },
  {
   "cell_type": "code",
   "execution_count": 59,
   "id": "e1d9f974",
   "metadata": {},
   "outputs": [
    {
     "data": {
      "text/html": [
       "<div>\n",
       "<style scoped>\n",
       "    .dataframe tbody tr th:only-of-type {\n",
       "        vertical-align: middle;\n",
       "    }\n",
       "\n",
       "    .dataframe tbody tr th {\n",
       "        vertical-align: top;\n",
       "    }\n",
       "\n",
       "    .dataframe thead th {\n",
       "        text-align: right;\n",
       "    }\n",
       "</style>\n",
       "<table border=\"1\" class=\"dataframe\">\n",
       "  <thead>\n",
       "    <tr style=\"text-align: right;\">\n",
       "      <th></th>\n",
       "      <th>age</th>\n",
       "      <th>group</th>\n",
       "      <th>city</th>\n",
       "      <th>gender</th>\n",
       "      <th>degree</th>\n",
       "    </tr>\n",
       "    <tr>\n",
       "      <th>id</th>\n",
       "      <th></th>\n",
       "      <th></th>\n",
       "      <th></th>\n",
       "      <th></th>\n",
       "      <th></th>\n",
       "    </tr>\n",
       "  </thead>\n",
       "  <tbody>\n",
       "    <tr>\n",
       "      <th>107</th>\n",
       "      <td>25</td>\n",
       "      <td>B</td>\n",
       "      <td>Tier2</td>\n",
       "      <td>F</td>\n",
       "      <td>marketing</td>\n",
       "    </tr>\n",
       "  </tbody>\n",
       "</table>\n",
       "</div>"
      ],
      "text/plain": [
       "     age group   city gender     degree\n",
       "id                                     \n",
       "107   25     B  Tier2      F  marketing"
      ]
     },
     "execution_count": 59,
     "metadata": {},
     "output_type": "execute_result"
    }
   ],
   "source": [
    "#Filtering data using callable function\n",
    "df.iloc[lambda df: list(df.age > 24), :]"
   ]
  },
  {
   "cell_type": "code",
   "execution_count": null,
   "id": "8e46b671",
   "metadata": {},
   "outputs": [],
   "source": []
  },
  {
   "cell_type": "code",
   "execution_count": null,
   "id": "dad586d6",
   "metadata": {},
   "outputs": [],
   "source": []
  },
  {
   "cell_type": "code",
   "execution_count": null,
   "id": "755cb365",
   "metadata": {},
   "outputs": [],
   "source": []
  }
 ],
 "metadata": {
  "kernelspec": {
   "display_name": "Python 3",
   "language": "python",
   "name": "python3"
  },
  "language_info": {
   "codemirror_mode": {
    "name": "ipython",
    "version": 3
   },
   "file_extension": ".py",
   "mimetype": "text/x-python",
   "name": "python",
   "nbconvert_exporter": "python",
   "pygments_lexer": "ipython3",
   "version": "3.8.8"
  }
 },
 "nbformat": 4,
 "nbformat_minor": 5
}
